{
 "cells": [
  {
   "cell_type": "code",
   "execution_count": 89,
   "id": "3f066857-e9c3-452f-8621-3f2087a91a55",
   "metadata": {},
   "outputs": [],
   "source": [
    "import numpy as np\n",
    "import pandas as pd\n",
    "\n",
    "from utils import preprocess\n",
    "from model.cnn import OlidCnnNet\n",
    "\n",
    "import torch"
   ]
  },
  {
   "cell_type": "code",
   "execution_count": 3,
   "id": "82f842b1-44cb-4ea6-afbd-96c02579e5ec",
   "metadata": {},
   "outputs": [],
   "source": [
    "%load_ext autoreload\n",
    "%autoreload 2"
   ]
  },
  {
   "cell_type": "code",
   "execution_count": 88,
   "id": "dac470f4-934f-4ac6-aa8a-d3c27f9266c5",
   "metadata": {},
   "outputs": [],
   "source": [
    "DATA_DIR = \"./data/\"\n",
    "TRAIN_DATA_FILE = DATA_DIR + \"olid-training-v1.0.tsv\""
   ]
  },
  {
   "cell_type": "code",
   "execution_count": 5,
   "id": "6910ab82-ba96-4533-8937-2b7ca4a78cbf",
   "metadata": {},
   "outputs": [],
   "source": [
    "ori_train_data = pd.read_csv(TRAIN_DATA_FILE, sep='\\t')"
   ]
  },
  {
   "cell_type": "code",
   "execution_count": 36,
   "id": "b1874eaa-cc7e-43fc-a10d-1645b9af26ae",
   "metadata": {},
   "outputs": [],
   "source": [
    "tweet_list = ori_train_data['tweet'].to_list()"
   ]
  },
  {
   "cell_type": "code",
   "execution_count": 37,
   "id": "4b3cc1b4-037d-4941-af89-ef11ed18b4a8",
   "metadata": {},
   "outputs": [],
   "source": [
    "processed_tweet_list = [preprocess.glove_twitter_preprocess(t) for t in tweet_list]"
   ]
  },
  {
   "cell_type": "code",
   "execution_count": 39,
   "id": "31e3517b-96db-4c9d-8d69-b453ab2fc256",
   "metadata": {},
   "outputs": [],
   "source": [
    "tokenized_tweet_list = preprocess.nltk_tokenize(processed_tweet_list)"
   ]
  },
  {
   "cell_type": "code",
   "execution_count": 42,
   "id": "7aae2650-a081-46a8-b1ec-3a514cd8b665",
   "metadata": {},
   "outputs": [],
   "source": [
    "vocabulary, documents_vector = preprocess.transform_word_to_vector(tokenized_tweet_list, num_vocab=20000, padded=False)"
   ]
  },
  {
   "cell_type": "code",
   "execution_count": 90,
   "id": "fed40642-fc42-403f-900d-be389d346bed",
   "metadata": {},
   "outputs": [],
   "source": [
    "pretrained_embedding = preprocess.get_embedding_from_torch_text(vocabulary, \"twitter.27B\", 25)"
   ]
  },
  {
   "cell_type": "code",
   "execution_count": 91,
   "id": "740270f3-675d-45b1-9f9f-57a94fab2bbf",
   "metadata": {},
   "outputs": [
    {
     "data": {
      "text/plain": [
       "torch.Size([19032, 25])"
      ]
     },
     "execution_count": 91,
     "metadata": {},
     "output_type": "execute_result"
    }
   ],
   "source": [
    "pretrained_embedding.shape"
   ]
  },
  {
   "cell_type": "code",
   "execution_count": 92,
   "id": "1bb7705d-5b5f-457e-b763-7a45f13849cc",
   "metadata": {},
   "outputs": [
    {
     "data": {
      "text/plain": [
       "15"
      ]
     },
     "execution_count": 92,
     "metadata": {},
     "output_type": "execute_result"
    }
   ],
   "source": [
    "len(documents_vector[0])"
   ]
  },
  {
   "cell_type": "code",
   "execution_count": 93,
   "id": "8f00cbd0-c9a1-42dd-8150-ff39777210ca",
   "metadata": {},
   "outputs": [],
   "source": [
    "cnn = OlidCnnNet(seq_len=15, num_vocab=19032, embedding_size=25, conv_out=8)"
   ]
  },
  {
   "cell_type": "code",
   "execution_count": 94,
   "id": "67c44ff5-19ac-43a2-acb5-a255b299b74b",
   "metadata": {},
   "outputs": [],
   "source": [
    "cnn.embedding.weight.data = pretrained_embedding\n",
    "cnn.embedding.weight.requires_grad = False"
   ]
  },
  {
   "cell_type": "code",
   "execution_count": 95,
   "id": "78663521-dbe1-4997-b6c9-9fbbc68c16b1",
   "metadata": {},
   "outputs": [],
   "source": [
    "test_input = documents_vector[0].unsqueeze(0)\n",
    "test_output = cnn(test_input)"
   ]
  },
  {
   "cell_type": "code",
   "execution_count": 96,
   "id": "4e800d68-4219-4d84-b730-f96adf13f016",
   "metadata": {},
   "outputs": [
    {
     "data": {
      "text/plain": [
       "tensor(0.5612, grad_fn=<SqueezeBackward0>)"
      ]
     },
     "execution_count": 96,
     "metadata": {},
     "output_type": "execute_result"
    }
   ],
   "source": [
    "test_output"
   ]
  },
  {
   "cell_type": "code",
   "execution_count": null,
   "id": "88b771d1-34c0-4d27-bb70-1380472a6a99",
   "metadata": {},
   "outputs": [],
   "source": []
  }
 ],
 "metadata": {
  "kernelspec": {
   "display_name": "cs5246",
   "language": "python",
   "name": "cs5246"
  },
  "language_info": {
   "codemirror_mode": {
    "name": "ipython",
    "version": 3
   },
   "file_extension": ".py",
   "mimetype": "text/x-python",
   "name": "python",
   "nbconvert_exporter": "python",
   "pygments_lexer": "ipython3",
   "version": "3.9.15"
  }
 },
 "nbformat": 4,
 "nbformat_minor": 5
}
