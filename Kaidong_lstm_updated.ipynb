{
 "cells": [
  {
   "cell_type": "code",
   "execution_count": 22,
   "metadata": {},
   "outputs": [],
   "source": [
    "import re\n",
    "import numpy as np\n",
    "import pandas as pd\n",
    "\n",
    "from utils import preprocess, plotutils\n",
    "\n",
    "from sklearn.naive_bayes import MultinomialNB\n",
    "from sklearn.neighbors import KNeighborsClassifier\n",
    "from sklearn.linear_model import LogisticRegression\n",
    "from sklearn.svm import SVC\n",
    "from sklearn.ensemble import RandomForestClassifier\n",
    "from sklearn.feature_extraction.text import TfidfVectorizer, CountVectorizer\n",
    "from sklearn.model_selection import train_test_split, cross_val_score, GridSearchCV, StratifiedKFold\n",
    "from sklearn import metrics\n",
    "from sklearn.pipeline import Pipeline\n",
    "import torch\n",
    "import torch.nn as nn\n",
    "import torch.optim as optim\n",
    "from torch.utils.data import Dataset, DataLoader\n",
    "from torch.nn.utils.rnn import pack_padded_sequence, pad_packed_sequence\n",
    "import torch.nn.functional as F\n",
    "\n",
    "import random\n",
    "from tqdm import tqdm\n",
    "from nltk.tokenize import TweetTokenizer\n",
    "from nltk.tokenize import word_tokenize\n",
    "from spacy.lang.en import stop_words\n",
    "from string import punctuation\n",
    "import emoji\n",
    "from utils import preprocess, preprocess_LIU, plotutils\n",
    "import matplotlib.pyplot as plt\n",
    "from sklearn.metrics import f1_score\n",
    "\n",
    "seed = 42\n",
    "random.seed(seed)\n",
    "np.random.seed(seed)\n",
    "torch.manual_seed(seed)\n",
    "torch.backends.cudnn.deterministic = True\n",
    "torch.backends.cudnn.benchmark = False\n",
    "torch.cuda.manual_seed_all(seed)"
   ]
  },
  {
   "cell_type": "code",
   "execution_count": 23,
   "metadata": {},
   "outputs": [
    {
     "name": "stdout",
     "output_type": "stream",
     "text": [
      "The autoreload extension is already loaded. To reload it, use:\n",
      "  %reload_ext autoreload\n"
     ]
    }
   ],
   "source": [
    "%load_ext autoreload\n",
    "%autoreload 2"
   ]
  },
  {
   "attachments": {},
   "cell_type": "markdown",
   "metadata": {},
   "source": [
    "## Glove Embedding"
   ]
  },
  {
   "cell_type": "code",
   "execution_count": 29,
   "metadata": {},
   "outputs": [],
   "source": [
    "DATA_DIR = \"./data/\"\n",
    "TRAIN_DATA_FILE = DATA_DIR + \"olid-training-v1.0.tsv\"\n",
    "TEST_A_DATA_FILE = DATA_DIR + \"testset-levela.tsv\"\n",
    "LABEL_A_DATA_FILE = DATA_DIR + \"labels-levela.csv\"\n",
    "TEST_B_DATA_FILE = DATA_DIR + \"testset-levelb.tsv\"\n",
    "LABEL_B_DATA_FILE = DATA_DIR + \"labels-levelb.csv\"\n",
    "TEST_C_DATA_FILE = DATA_DIR + \"testset-levelc.tsv\"\n",
    "LABEL_C_DATA_FILE = DATA_DIR + \"labels-levelc.csv\"\n",
    "\n",
    "ori_train_data = pd.read_csv(TRAIN_DATA_FILE, sep='\\t')\n",
    "\n",
    "task_a_test_data = pd.read_csv(TEST_A_DATA_FILE, sep='\\t')\n",
    "task_a_test_label = pd.read_csv(LABEL_A_DATA_FILE, usecols=[1], names=['labela'])\n",
    "\n",
    "task_b_test_data = pd.read_csv(TEST_B_DATA_FILE, sep='\\t')\n",
    "task_b_test_label = pd.read_csv(LABEL_B_DATA_FILE, usecols=[1], names=['labelb'])\n",
    "\n",
    "task_c_test_data = pd.read_csv(TEST_C_DATA_FILE, sep='\\t')\n",
    "task_c_test_label = pd.read_csv(LABEL_C_DATA_FILE, usecols=[1], names=['labelc'])"
   ]
  },
  {
   "attachments": {},
   "cell_type": "markdown",
   "metadata": {},
   "source": [
    "### Task A - training"
   ]
  },
  {
   "cell_type": "code",
   "execution_count": 30,
   "metadata": {},
   "outputs": [
    {
     "data": {
      "text/plain": [
       "torch.Size([19034, 200])"
      ]
     },
     "execution_count": 30,
     "metadata": {},
     "output_type": "execute_result"
    }
   ],
   "source": [
    "tweet_list = ori_train_data['tweet'].to_list()\n",
    "processed_tweet_list = [preprocess.glove_twitter_preprocess(t) for t in tweet_list]\n",
    "tokenized_tweet_list = preprocess.nltk_tokenize(processed_tweet_list)\n",
    "vocabulary, documents_vector = preprocess.transform_word_to_vector(tokenized_tweet_list, num_vocab=20000, padded=False)\n",
    "\n",
    "pretrained_embedding = preprocess.get_embedding_from_torch_text(vocabulary, \"twitter.27B\", 200)\n",
    "pretrained_embedding.shape"
   ]
  },
  {
   "cell_type": "code",
   "execution_count": 31,
   "metadata": {},
   "outputs": [],
   "source": [
    "label2id = {'NOT': 0, 'OFF': 1}\n",
    "sub_a_label = ori_train_data['subtask_a'].map(label2id).to_list()\n",
    "sentences_train, sentences_test, labels_train, labels_test = train_test_split(documents_vector, sub_a_label, test_size=0.2, random_state=5246)\n",
    "y_train = np.asarray(labels_train)\n",
    "y_test = np.asarray(labels_test)\n",
    "\n",
    "count_not, count_off= np.sum(y_train == 0), np.sum(y_train == 1)\n",
    "weight_not = len(y_train) / (2 * count_not)\n",
    "weight_off = len(y_train) / (2 * count_off)\n",
    "class_weights = torch.FloatTensor([weight_not, weight_off])"
   ]
  },
  {
   "cell_type": "code",
   "execution_count": 32,
   "metadata": {},
   "outputs": [],
   "source": [
    "def collate_fn(batch):\n",
    "    batch.sort(key=lambda x: x[2], reverse=True)\n",
    "    sequences, labels, lengths = zip(*batch)\n",
    "    sequences = nn.utils.rnn.pad_sequence(sequences, batch_first=True, padding_value=0.0)\n",
    "    return sequences, torch.tensor(labels), torch.tensor(lengths)\n",
    "\n",
    "class TextDataset(Dataset):\n",
    "    def __init__(self, sentences, labels):\n",
    "        self.sentences = sentences\n",
    "        self.labels = labels\n",
    "\n",
    "    def __len__(self):\n",
    "        return len(self.sentences)\n",
    "\n",
    "    def __getitem__(self, idx):\n",
    "        return self.sentences[idx], torch.tensor(self.labels[idx]), len(self.sentences[idx])\n",
    "\n",
    "\n",
    "class LSTMClassifier(nn.Module):\n",
    "    def __init__(self, embedding_dim, hidden_dim, output_dim, pretrained_embedding):\n",
    "        super(LSTMClassifier, self).__init__()\n",
    "\n",
    "        self.hidden_dim = hidden_dim\n",
    "        self.embedding = nn.Embedding.from_pretrained(pretrained_embedding)\n",
    "        self.lstm = nn.LSTM(embedding_dim, hidden_dim, batch_first=True, bidirectional=True)\n",
    "        self.fc = nn.Linear(2 * hidden_dim, output_dim)\n",
    "        self.log_softmax = nn.LogSoftmax(dim=1)\n",
    "\n",
    "    def forward(self, x, lengths):\n",
    "        batch_size = x.size(0)\n",
    "        x = self.embedding(x)\n",
    "        h0 = torch.zeros(2, batch_size, self.hidden_dim).requires_grad_()\n",
    "        c0 = torch.zeros(2, batch_size, self.hidden_dim).requires_grad_()\n",
    "\n",
    "        x = nn.utils.rnn.pack_padded_sequence(x, lengths, batch_first=True)\n",
    "\n",
    "        out, (hn, cn) = self.lstm(x, (h0.detach(), c0.detach()))\n",
    "        out, _ = nn.utils.rnn.pad_packed_sequence(out, batch_first=True)\n",
    "        out = self.fc(torch.cat((hn[-2], hn[-1]), dim=1))\n",
    "        return self.log_softmax(out)"
   ]
  },
  {
   "cell_type": "code",
   "execution_count": 33,
   "metadata": {},
   "outputs": [
    {
     "name": "stdout",
     "output_type": "stream",
     "text": [
      "Epoch [1/10], Loss: 0.5965, Train F1: 0.6498, Val F1: 0.7105\n",
      "Epoch [2/10], Loss: 0.5078, Train F1: 0.7388, Val F1: 0.7368\n",
      "Epoch [3/10], Loss: 0.4738, Train F1: 0.7573, Val F1: 0.7508\n",
      "Epoch [4/10], Loss: 0.4404, Train F1: 0.7778, Val F1: 0.7475\n",
      "Epoch [5/10], Loss: 0.4095, Train F1: 0.7978, Val F1: 0.7193\n",
      "Epoch [6/10], Loss: 0.3624, Train F1: 0.8283, Val F1: 0.7110\n",
      "Epoch [7/10], Loss: 0.3074, Train F1: 0.8568, Val F1: 0.7147\n",
      "Epoch [8/10], Loss: 0.2427, Train F1: 0.8918, Val F1: 0.7257\n",
      "Epoch [9/10], Loss: 0.1694, Train F1: 0.9316, Val F1: 0.7133\n",
      "Epoch [10/10], Loss: 0.1169, Train F1: 0.9550, Val F1: 0.7169\n",
      "Classification report for best model on validation set:\n",
      "              precision    recall  f1-score   support\n",
      "\n",
      "         NOT       0.85      0.79      0.82      1750\n",
      "         OFF       0.64      0.74      0.68       898\n",
      "\n",
      "    accuracy                           0.77      2648\n",
      "   macro avg       0.75      0.76      0.75      2648\n",
      "weighted avg       0.78      0.77      0.77      2648\n",
      "\n"
     ]
    },
    {
     "data": {
      "image/png": "[encoded data removed]",
      "text/plain": [
       "<Figure size 640x480 with 1 Axes>"
      ]
     },
     "metadata": {},
     "output_type": "display_data"
    }
   ],
   "source": [
    "embedding_dim = pretrained_embedding.size(1)\n",
    "hidden_dim = 64\n",
    "output_dim = 2\n",
    "lr = 0.001\n",
    "num_epochs = 10\n",
    "\n",
    "model = LSTMClassifier(embedding_dim, hidden_dim, output_dim, pretrained_embedding)\n",
    "criterion = nn.NLLLoss(weight=class_weights)\n",
    "# criterion = nn.CrossEntropyLoss(weight=class_weights)\n",
    "# optimizer = optim.Adam(model.parameters(), lr=lr)\n",
    "optimizer = optim.AdamW(model.parameters(), lr=lr, weight_decay=1e-3)\n",
    "\n",
    "train_dataset = TextDataset(sentences_train, y_train)\n",
    "test_dataset = TextDataset(sentences_test, y_test)\n",
    "\n",
    "train_loader = DataLoader(train_dataset, batch_size=32, shuffle=True, collate_fn=collate_fn)\n",
    "test_loader = DataLoader(test_dataset, batch_size=32, shuffle=False, collate_fn=collate_fn)\n",
    "\n",
    "train_losses = []\n",
    "train_f1_scores = []\n",
    "val_f1_scores = []\n",
    "best_val_f1 = 0\n",
    "best_model_path = 'best_model_a.pt'\n",
    "\n",
    "for epoch in range(num_epochs):\n",
    "    epoch_loss = 0\n",
    "    epoch_preds = []\n",
    "    epoch_labels = []\n",
    "\n",
    "    # Training loop\n",
    "    model.train()\n",
    "    for i, (inputs, labels, lengths) in enumerate(train_loader):\n",
    "        optimizer.zero_grad()\n",
    "        outputs = model(inputs.long(), lengths)\n",
    "        loss = criterion(outputs, labels)\n",
    "        loss.backward()\n",
    "        optimizer.step()\n",
    "        epoch_loss += loss.item()\n",
    "\n",
    "        _, predicted = torch.max(outputs.data, 1)\n",
    "        epoch_preds.extend(predicted.cpu().numpy())\n",
    "        epoch_labels.extend(labels.cpu().numpy())\n",
    "\n",
    "    train_losses.append(epoch_loss / len(train_loader))\n",
    "    train_f1_scores.append(f1_score(epoch_labels, epoch_preds, average='macro'))\n",
    "\n",
    "    # Validation loop\n",
    "    model.eval()\n",
    "    val_preds = []\n",
    "    val_labels = []\n",
    "    with torch.no_grad():\n",
    "        for inputs, labels, lengths in test_loader:\n",
    "            outputs = model(inputs.long(), lengths)\n",
    "            _, predicted = torch.max(outputs.data, 1)\n",
    "            val_preds.extend(predicted.cpu().numpy())\n",
    "            val_labels.extend(labels.cpu().numpy())\n",
    "\n",
    "    val_f1 = f1_score(val_labels, val_preds, average='macro')\n",
    "    val_f1_scores.append(val_f1)\n",
    "    print(f\"Epoch [{epoch + 1}/{num_epochs}], Loss: {train_losses[-1]:.4f}, Train F1: {train_f1_scores[-1]:.4f}, Val F1: {val_f1_scores[-1]:.4f}\")\n",
    "\n",
    "    # Save the best model based on validation F1 score\n",
    "    if val_f1 > best_val_f1:\n",
    "        best_val_f1 = val_f1\n",
    "        torch.save(model.state_dict(), best_model_path)\n",
    "\n",
    "# Load the best model\n",
    "model.load_state_dict(torch.load(best_model_path))\n",
    "model.eval()\n",
    "val_preds = []\n",
    "val_labels = []\n",
    "with torch.no_grad():\n",
    "    for inputs, labels, lengths in test_loader:\n",
    "        outputs = model(inputs.long(), lengths)\n",
    "        _, predicted = torch.max(outputs.data, 1)\n",
    "        val_preds.extend(predicted.cpu().numpy())\n",
    "        val_labels.extend(labels.cpu().numpy())\n",
    "\n",
    "print(\"Classification report for best model on validation set:\")\n",
    "print(metrics.classification_report(val_labels, val_preds, target_names=['NOT', 'OFF']))\n",
    "\n",
    "# Plotting\n",
    "font_axes = {'family':'serif','color':'black','size':16}\n",
    "epochs = range(1, num_epochs + 1)\n",
    "plt.figure()\n",
    "plt.plot(epochs, train_losses, lw=3)\n",
    "plt.plot(epochs, train_f1_scores, lw=3)\n",
    "plt.plot(epochs, val_f1_scores, lw=3)\n",
    "plt.yticks(fontsize=14)\n",
    "plt.xlabel(\"Epoch\", fontdict=font_axes)\n",
    "plt.ylabel(\"F1 Score\", fontdict=font_axes)\n",
    "plt.legend(['Loss', 'F1 (train)', 'F1 (test)'], loc='lower left', fontsize=16)\n",
    "plt.tight_layout()\n",
    "plt.show()  "
   ]
  },
  {
   "attachments": {},
   "cell_type": "markdown",
   "metadata": {},
   "source": [
    "#### Test task a"
   ]
  },
  {
   "cell_type": "code",
   "execution_count": 34,
   "metadata": {},
   "outputs": [
    {
     "name": "stdout",
     "output_type": "stream",
     "text": [
      "Test Accuracy: 81.05%\n",
      "0.8104651162790698\n",
      "              precision    recall  f1-score   support\n",
      "\n",
      "         NOT       0.86      0.89      0.87       620\n",
      "         OFF       0.68      0.61      0.64       240\n",
      "\n",
      "    accuracy                           0.81       860\n",
      "   macro avg       0.77      0.75      0.76       860\n",
      "weighted avg       0.81      0.81      0.81       860\n",
      "\n"
     ]
    }
   ],
   "source": [
    "tweets_test_a = task_a_test_data[\"tweet\"].tolist()\n",
    "processed_tweet_list_a = [preprocess.glove_twitter_preprocess(t) for t in tweets_test_a]\n",
    "tokenized_tweet_list_a = preprocess.nltk_tokenize(processed_tweet_list_a)\n",
    "# _ , documents_vector_a = preprocess.transform_word_to_vector(tokenized_tweet_list_a, num_vocab=20000, padded=False)\n",
    "documents_vector_a = preprocess.get_vector_from_vocabulary(vocabulary, tokenized_tweet_list_a)\n",
    "\n",
    "sub_a_label_test = task_a_test_label['labela'].map(label2id).to_list()\n",
    "test_a_dataset = TextDataset(documents_vector_a, sub_a_label_test)\n",
    "test_a_loader = DataLoader(test_a_dataset, batch_size=32, shuffle=False, collate_fn=collate_fn)\n",
    "\n",
    "best_model = LSTMClassifier(embedding_dim, hidden_dim, output_dim, pretrained_embedding)\n",
    "best_model.load_state_dict(torch.load(best_model_path))\n",
    "best_model.eval()\n",
    "\n",
    "with torch.no_grad():\n",
    "    correct = 0\n",
    "    total = 0\n",
    "    pred, label = [],[]\n",
    "    for i, (inputs, labels, lengths) in enumerate(test_a_loader):\n",
    "        outputs = best_model(inputs.long(), lengths)\n",
    "        _, predicted = torch.max(outputs.data, 1)\n",
    "        pred.append(predicted)\n",
    "        label.append(labels)\n",
    "        total += labels.size(0)\n",
    "        correct += (predicted == labels).sum().item()\n",
    "\n",
    "    print(f\"Test Accuracy: {100 * correct / total:.2f}%\")\n",
    "\n",
    "y_pred = np.asarray(torch.cat(pred))\n",
    "y_label = np.asarray(torch.cat(label))\n",
    "print(metrics.f1_score(y_label, y_pred, average='micro'))\n",
    "print(metrics.classification_report(y_label, y_pred, target_names=['NOT', 'OFF']))"
   ]
  },
  {
   "attachments": {},
   "cell_type": "markdown",
   "metadata": {},
   "source": [
    "### Task B - training"
   ]
  },
  {
   "cell_type": "code",
   "execution_count": 35,
   "metadata": {},
   "outputs": [
    {
     "data": {
      "text/plain": [
       "torch.Size([10335, 200])"
      ]
     },
     "execution_count": 35,
     "metadata": {},
     "output_type": "execute_result"
    }
   ],
   "source": [
    "sub_b_idx = list(ori_train_data[ori_train_data['subtask_b'].notna()].index)\n",
    "tweet_list = ori_train_data.loc[sub_b_idx]['tweet'].to_list()\n",
    "processed_tweet_list = [preprocess.glove_twitter_preprocess(t) for t in tweet_list]\n",
    "tokenized_tweet_list = preprocess.nltk_tokenize(processed_tweet_list)\n",
    "vocabulary, documents_vector = preprocess.transform_word_to_vector(tokenized_tweet_list, num_vocab=20000, padded=False)\n",
    "pretrained_embedding = preprocess.get_embedding_from_torch_text(vocabulary, \"twitter.27B\", 200)\n",
    "pretrained_embedding.shape"
   ]
  },
  {
   "cell_type": "code",
   "execution_count": 36,
   "metadata": {},
   "outputs": [],
   "source": [
    "label2id = {'UNT': 0, 'TIN': 1}\n",
    "sub_b_label = ori_train_data.loc[sub_b_idx]['subtask_b'].map(label2id).to_list()\n",
    "sentences_train, sentences_test, labels_train, labels_test = train_test_split(documents_vector, sub_b_label, test_size=0.2, random_state=5246)\n",
    "y_train = np.asarray(labels_train)\n",
    "y_test = np.asarray(labels_test)\n",
    "\n",
    "count_unt, count_tin= np.sum(y_train == 0), np.sum(y_train == 1)\n",
    "weight_unt = len(y_train) / (2 * count_unt)\n",
    "weight_tin = len(y_train) / (2 * count_tin)\n",
    "class_weights = torch.FloatTensor([weight_unt, weight_tin])"
   ]
  },
  {
   "cell_type": "code",
   "execution_count": 37,
   "metadata": {},
   "outputs": [
    {
     "name": "stdout",
     "output_type": "stream",
     "text": [
      "Epoch [1/10], Loss: 0.6749, Train F1: 0.5085, Val F1: 0.5722\n",
      "Epoch [2/10], Loss: 0.6253, Train F1: 0.5853, Val F1: 0.6242\n",
      "Epoch [3/10], Loss: 0.5783, Train F1: 0.6095, Val F1: 0.5670\n",
      "Epoch [4/10], Loss: 0.5389, Train F1: 0.6370, Val F1: 0.5725\n",
      "Epoch [5/10], Loss: 0.4559, Train F1: 0.6839, Val F1: 0.5626\n",
      "Epoch [6/10], Loss: 0.3517, Train F1: 0.7399, Val F1: 0.5002\n",
      "Epoch [7/10], Loss: 0.2581, Train F1: 0.8043, Val F1: 0.5889\n",
      "Epoch [8/10], Loss: 0.1915, Train F1: 0.8544, Val F1: 0.6008\n",
      "Epoch [9/10], Loss: 0.1143, Train F1: 0.9039, Val F1: 0.6000\n",
      "Epoch [10/10], Loss: 0.0743, Train F1: 0.9402, Val F1: 0.5907\n",
      "Classification report for best model on validation set:\n",
      "              precision    recall  f1-score   support\n",
      "\n",
      "         UNT       0.37      0.32      0.34       117\n",
      "         TIN       0.90      0.92      0.91       763\n",
      "\n",
      "    accuracy                           0.84       880\n",
      "   macro avg       0.63      0.62      0.62       880\n",
      "weighted avg       0.83      0.84      0.83       880\n",
      "\n"
     ]
    },
    {
     "data": {
      "image/png": "[encoded data removed]",
      "text/plain": [
       "<Figure size 640x480 with 1 Axes>"
      ]
     },
     "metadata": {},
     "output_type": "display_data"
    }
   ],
   "source": [
    "embedding_dim = pretrained_embedding.size(1)\n",
    "hidden_dim = 64\n",
    "output_dim = 2\n",
    "lr = 0.001\n",
    "num_epochs = 10\n",
    "\n",
    "model = LSTMClassifier(embedding_dim, hidden_dim, output_dim, pretrained_embedding)\n",
    "criterion = nn.NLLLoss(weight=class_weights)\n",
    "# criterion = nn.CrossEntropyLoss(weight=class_weights)\n",
    "# optimizer = optim.Adam(model.parameters(), lr=lr)\n",
    "optimizer = optim.AdamW(model.parameters(), lr=lr, weight_decay=1e-3)\n",
    "\n",
    "train_dataset = TextDataset(sentences_train, y_train)\n",
    "test_dataset = TextDataset(sentences_test, y_test)\n",
    "\n",
    "train_loader = DataLoader(train_dataset, batch_size=32, shuffle=True, collate_fn=collate_fn)\n",
    "test_loader = DataLoader(test_dataset, batch_size=32, shuffle=False, collate_fn=collate_fn)\n",
    "\n",
    "train_losses = []\n",
    "train_f1_scores = []\n",
    "val_f1_scores = []\n",
    "best_val_f1 = 0\n",
    "best_model_path = 'best_model_b.pt'\n",
    "\n",
    "for epoch in range(num_epochs):\n",
    "    epoch_loss = 0\n",
    "    epoch_preds = []\n",
    "    epoch_labels = []\n",
    "\n",
    "    # Training loop\n",
    "    model.train()\n",
    "    for i, (inputs, labels, lengths) in enumerate(train_loader):\n",
    "        optimizer.zero_grad()\n",
    "        outputs = model(inputs.long(), lengths)\n",
    "        loss = criterion(outputs, labels)\n",
    "        loss.backward()\n",
    "        optimizer.step()\n",
    "        epoch_loss += loss.item()\n",
    "\n",
    "        _, predicted = torch.max(outputs.data, 1)\n",
    "        epoch_preds.extend(predicted.cpu().numpy())\n",
    "        epoch_labels.extend(labels.cpu().numpy())\n",
    "\n",
    "    train_losses.append(epoch_loss / len(train_loader))\n",
    "    train_f1_scores.append(f1_score(epoch_labels, epoch_preds, average='macro'))\n",
    "\n",
    "    # Validation loop\n",
    "    model.eval()\n",
    "    val_preds = []\n",
    "    val_labels = []\n",
    "    with torch.no_grad():\n",
    "        for inputs, labels, lengths in test_loader:\n",
    "            outputs = model(inputs.long(), lengths)\n",
    "            _, predicted = torch.max(outputs.data, 1)\n",
    "            val_preds.extend(predicted.cpu().numpy())\n",
    "            val_labels.extend(labels.cpu().numpy())\n",
    "\n",
    "    val_f1 = f1_score(val_labels, val_preds, average='macro')\n",
    "    val_f1_scores.append(val_f1)\n",
    "    print(f\"Epoch [{epoch + 1}/{num_epochs}], Loss: {train_losses[-1]:.4f}, Train F1: {train_f1_scores[-1]:.4f}, Val F1: {val_f1_scores[-1]:.4f}\")\n",
    "\n",
    "    # Save the best model based on validation F1 score\n",
    "    if val_f1 > best_val_f1:\n",
    "        best_val_f1 = val_f1\n",
    "        torch.save(model.state_dict(), best_model_path)\n",
    "\n",
    "# Load the best model\n",
    "model.load_state_dict(torch.load(best_model_path))\n",
    "model.eval()\n",
    "val_preds = []\n",
    "val_labels = []\n",
    "with torch.no_grad():\n",
    "    for inputs, labels, lengths in test_loader:\n",
    "        outputs = model(inputs.long(), lengths)\n",
    "        _, predicted = torch.max(outputs.data, 1)\n",
    "        val_preds.extend(predicted.cpu().numpy())\n",
    "        val_labels.extend(labels.cpu().numpy())\n",
    "\n",
    "print(\"Classification report for best model on validation set:\")\n",
    "print(metrics.classification_report(val_labels, val_preds, target_names=['UNT', 'TIN']))\n",
    "\n",
    "# Plotting\n",
    "font_axes = {'family':'serif','color':'black','size':16}\n",
    "epochs = range(1, num_epochs + 1)\n",
    "plt.figure()\n",
    "plt.plot(epochs, train_losses, lw=3)\n",
    "plt.plot(epochs, train_f1_scores, lw=3)\n",
    "plt.plot(epochs, val_f1_scores, lw=3)\n",
    "plt.yticks(fontsize=14)\n",
    "plt.xlabel(\"Epoch\", fontdict=font_axes)\n",
    "plt.ylabel(\"F1 Score\", fontdict=font_axes)\n",
    "plt.legend(['Loss', 'F1 (train)', 'F1 (test)'], loc='lower left', fontsize=16)\n",
    "plt.tight_layout()\n",
    "plt.show()  \n"
   ]
  },
  {
   "attachments": {},
   "cell_type": "markdown",
   "metadata": {},
   "source": [
    "#### Test task b"
   ]
  },
  {
   "cell_type": "code",
   "execution_count": 38,
   "metadata": {},
   "outputs": [
    {
     "name": "stdout",
     "output_type": "stream",
     "text": [
      "Test Accuracy: 76.67%\n",
      "0.7666666666666667\n",
      "              precision    recall  f1-score   support\n",
      "\n",
      "         UNT       0.28      0.67      0.39        27\n",
      "         TIN       0.95      0.78      0.86       213\n",
      "\n",
      "    accuracy                           0.77       240\n",
      "   macro avg       0.61      0.72      0.62       240\n",
      "weighted avg       0.87      0.77      0.80       240\n",
      "\n"
     ]
    }
   ],
   "source": [
    "tweets_test_b = task_b_test_data[\"tweet\"].tolist()\n",
    "processed_tweet_list_b = [preprocess.glove_twitter_preprocess(t) for t in tweets_test_b]\n",
    "tokenized_tweet_list_b = preprocess.nltk_tokenize(processed_tweet_list_b)\n",
    "documents_vector_b = preprocess.get_vector_from_vocabulary(vocabulary, tokenized_tweet_list_b)\n",
    "\n",
    "sub_b_label_test = task_b_test_label['labelb'].map(label2id).to_list()\n",
    "test_b_dataset = TextDataset(documents_vector_b, sub_b_label_test)\n",
    "test_b_loader = DataLoader(test_b_dataset, batch_size=32, shuffle=False, collate_fn=collate_fn)\n",
    "\n",
    "best_model = LSTMClassifier(embedding_dim, hidden_dim, output_dim, pretrained_embedding)\n",
    "best_model.load_state_dict(torch.load(best_model_path))\n",
    "best_model.eval()\n",
    "\n",
    "with torch.no_grad():\n",
    "    correct = 0\n",
    "    total = 0\n",
    "    pred, label = [],[]\n",
    "    for i, (inputs, labels, lengths) in enumerate(test_b_loader):\n",
    "        outputs = model(inputs.long(), lengths)\n",
    "        _, predicted = torch.max(outputs.data, 1)\n",
    "        pred.append(predicted)\n",
    "        label.append(labels)\n",
    "        total += labels.size(0)\n",
    "        correct += (predicted == labels).sum().item()\n",
    "\n",
    "    print(f\"Test Accuracy: {100 * correct / total:.2f}%\")\n",
    "\n",
    "y_pred = np.asarray(torch.cat(pred))\n",
    "y_label = np.asarray(torch.cat(label))\n",
    "print(metrics.f1_score(y_label, y_pred, average='micro'))\n",
    "print(metrics.classification_report(y_label, y_pred, target_names=['UNT', 'TIN']))"
   ]
  },
  {
   "attachments": {},
   "cell_type": "markdown",
   "metadata": {},
   "source": [
    "### Task C - training"
   ]
  },
  {
   "cell_type": "code",
   "execution_count": 39,
   "metadata": {},
   "outputs": [
    {
     "data": {
      "text/plain": [
       "torch.Size([9679, 200])"
      ]
     },
     "execution_count": 39,
     "metadata": {},
     "output_type": "execute_result"
    }
   ],
   "source": [
    "sub_c_idx = list(ori_train_data[ori_train_data['subtask_c'].notna()].index)\n",
    "tweet_list = ori_train_data.loc[sub_c_idx]['tweet'].to_list()\n",
    "processed_tweet_list = [preprocess.glove_twitter_preprocess(t) for t in tweet_list]\n",
    "tokenized_tweet_list = preprocess.nltk_tokenize(processed_tweet_list)\n",
    "vocabulary, documents_vector = preprocess.transform_word_to_vector(tokenized_tweet_list, num_vocab=20000, padded=False)\n",
    "pretrained_embedding = preprocess.get_embedding_from_torch_text(vocabulary, \"twitter.27B\", 200)\n",
    "pretrained_embedding.shape"
   ]
  },
  {
   "cell_type": "code",
   "execution_count": 40,
   "metadata": {},
   "outputs": [],
   "source": [
    "label2id = {'IND': 0, 'GRP': 1, 'OTH': 2}\n",
    "sub_c_label = ori_train_data.loc[sub_c_idx]['subtask_c'].map(label2id).to_list()\n",
    "sentences_train, sentences_test, labels_train, labels_test = train_test_split(documents_vector, sub_c_label, test_size=0.2, random_state=5246)\n",
    "y_train = np.asarray(labels_train)\n",
    "y_test = np.asarray(labels_test)\n",
    "\n",
    "count_ind, count_grp, count_oth = np.sum(y_train == 0), np.sum(y_train == 1), np.sum(y_train == 1)\n",
    "weight_ind = len(y_train) / (3 * count_ind)\n",
    "weight_grp = len(y_train) / (3 * count_grp)\n",
    "weight_oth = len(y_train) / (3 * count_oth)\n",
    "class_weights = torch.FloatTensor([weight_ind, weight_grp, weight_oth])"
   ]
  },
  {
   "cell_type": "code",
   "execution_count": 41,
   "metadata": {},
   "outputs": [
    {
     "name": "stdout",
     "output_type": "stream",
     "text": [
      "Epoch [1/10], Loss: 0.9384, Train F1: 0.4120, Val F1: 0.4691\n",
      "Epoch [2/10], Loss: 0.8244, Train F1: 0.4708, Val F1: 0.4768\n",
      "Epoch [3/10], Loss: 0.7727, Train F1: 0.4984, Val F1: 0.4891\n",
      "Epoch [4/10], Loss: 0.7318, Train F1: 0.5456, Val F1: 0.4852\n",
      "Epoch [5/10], Loss: 0.6811, Train F1: 0.5789, Val F1: 0.5181\n",
      "Epoch [6/10], Loss: 0.6095, Train F1: 0.6562, Val F1: 0.4861\n",
      "Epoch [7/10], Loss: 0.5318, Train F1: 0.7081, Val F1: 0.5381\n",
      "Epoch [8/10], Loss: 0.4345, Train F1: 0.7818, Val F1: 0.5371\n",
      "Epoch [9/10], Loss: 0.3118, Train F1: 0.8508, Val F1: 0.5158\n",
      "Epoch [10/10], Loss: 0.2200, Train F1: 0.9025, Val F1: 0.5220\n",
      "Classification report for best model on validation set:\n",
      "              precision    recall  f1-score   support\n",
      "\n",
      "         IND       0.84      0.72      0.78       500\n",
      "         GRP       0.57      0.66      0.61       203\n",
      "         OTH       0.19      0.29      0.23        73\n",
      "\n",
      "    accuracy                           0.66       776\n",
      "   macro avg       0.53      0.56      0.54       776\n",
      "weighted avg       0.71      0.66      0.68       776\n",
      "\n"
     ]
    },
    {
     "data": {
      "image/png": "[encoded data removed]",
      "text/plain": [
       "<Figure size 640x480 with 1 Axes>"
      ]
     },
     "metadata": {},
     "output_type": "display_data"
    }
   ],
   "source": [
    "embedding_dim = pretrained_embedding.size(1)\n",
    "hidden_dim = 64\n",
    "output_dim = 3\n",
    "lr = 0.001\n",
    "num_epochs = 10\n",
    "\n",
    "model = LSTMClassifier(embedding_dim, hidden_dim, output_dim, pretrained_embedding)\n",
    "criterion = nn.NLLLoss(weight=class_weights)\n",
    "# criterion = nn.CrossEntropyLoss(weight=class_weights)\n",
    "# optimizer = optim.Adam(model.parameters(), lr=lr)\n",
    "optimizer = optim.AdamW(model.parameters(), lr=lr, weight_decay=1e-3)\n",
    "\n",
    "train_dataset = TextDataset(sentences_train, y_train)\n",
    "test_dataset = TextDataset(sentences_test, y_test)\n",
    "\n",
    "train_loader = DataLoader(train_dataset, batch_size=32, shuffle=True, collate_fn=collate_fn)\n",
    "test_loader = DataLoader(test_dataset, batch_size=32, shuffle=False, collate_fn=collate_fn)\n",
    "\n",
    "train_losses = []\n",
    "train_f1_scores = []\n",
    "val_f1_scores = []\n",
    "best_val_f1 = 0\n",
    "best_model_path = 'best_model_c.pt'\n",
    "\n",
    "for epoch in range(num_epochs):\n",
    "    epoch_loss = 0\n",
    "    epoch_preds = []\n",
    "    epoch_labels = []\n",
    "\n",
    "    # Training loop\n",
    "    model.train()\n",
    "    for i, (inputs, labels, lengths) in enumerate(train_loader):\n",
    "        optimizer.zero_grad()\n",
    "        outputs = model(inputs.long(), lengths)\n",
    "        loss = criterion(outputs, labels)\n",
    "        loss.backward()\n",
    "        optimizer.step()\n",
    "        epoch_loss += loss.item()\n",
    "\n",
    "        _, predicted = torch.max(outputs.data, 1)\n",
    "        epoch_preds.extend(predicted.cpu().numpy())\n",
    "        epoch_labels.extend(labels.cpu().numpy())\n",
    "\n",
    "    train_losses.append(epoch_loss / len(train_loader))\n",
    "    train_f1_scores.append(f1_score(epoch_labels, epoch_preds, average='macro'))\n",
    "\n",
    "    # Validation loop\n",
    "    model.eval()\n",
    "    val_preds = []\n",
    "    val_labels = []\n",
    "    with torch.no_grad():\n",
    "        for inputs, labels, lengths in test_loader:\n",
    "            outputs = model(inputs.long(), lengths)\n",
    "            _, predicted = torch.max(outputs.data, 1)\n",
    "            val_preds.extend(predicted.cpu().numpy())\n",
    "            val_labels.extend(labels.cpu().numpy())\n",
    "\n",
    "    val_f1 = f1_score(val_labels, val_preds, average='macro')\n",
    "    val_f1_scores.append(val_f1)\n",
    "    print(f\"Epoch [{epoch + 1}/{num_epochs}], Loss: {train_losses[-1]:.4f}, Train F1: {train_f1_scores[-1]:.4f}, Val F1: {val_f1_scores[-1]:.4f}\")\n",
    "\n",
    "    # Save the best model based on validation F1 score\n",
    "    if val_f1 > best_val_f1:\n",
    "        best_val_f1 = val_f1\n",
    "        torch.save(model.state_dict(), best_model_path)\n",
    "\n",
    "# Load the best model\n",
    "model.load_state_dict(torch.load(best_model_path))\n",
    "model.eval()\n",
    "val_preds = []\n",
    "val_labels = []\n",
    "with torch.no_grad():\n",
    "    for inputs, labels, lengths in test_loader:\n",
    "        outputs = model(inputs.long(), lengths)\n",
    "        _, predicted = torch.max(outputs.data, 1)\n",
    "        val_preds.extend(predicted.cpu().numpy())\n",
    "        val_labels.extend(labels.cpu().numpy())\n",
    "\n",
    "print(\"Classification report for best model on validation set:\")\n",
    "print(metrics.classification_report(val_labels, val_preds, target_names=['IND', 'GRP', 'OTH']))\n",
    "\n",
    "# Plotting\n",
    "font_axes = {'family':'serif','color':'black','size':16}\n",
    "epochs = range(1, num_epochs + 1)\n",
    "plt.figure()\n",
    "plt.plot(epochs, train_losses, lw=3)\n",
    "plt.plot(epochs, train_f1_scores, lw=3)\n",
    "plt.plot(epochs, val_f1_scores, lw=3)\n",
    "plt.yticks(fontsize=14)\n",
    "plt.xlabel(\"Epoch\", fontdict=font_axes)\n",
    "plt.ylabel(\"F1 Score\", fontdict=font_axes)\n",
    "plt.legend(['Loss', 'F1 (train)', 'F1 (test)'], loc='lower left', fontsize=16)\n",
    "plt.tight_layout()\n",
    "plt.show()  \n"
   ]
  },
  {
   "cell_type": "code",
   "execution_count": 42,
   "metadata": {},
   "outputs": [
    {
     "name": "stdout",
     "output_type": "stream",
     "text": [
      "Test Accuracy: 61.50%\n",
      "0.6150234741784038\n",
      "              precision    recall  f1-score   support\n",
      "\n",
      "         IND       0.77      0.59      0.67       100\n",
      "         GRP       0.59      0.76      0.66        78\n",
      "         OTH       0.36      0.37      0.37        35\n",
      "\n",
      "    accuracy                           0.62       213\n",
      "   macro avg       0.57      0.57      0.57       213\n",
      "weighted avg       0.64      0.62      0.62       213\n",
      "\n"
     ]
    }
   ],
   "source": [
    "tweets_test_c = task_c_test_data[\"tweet\"].tolist()\n",
    "processed_tweet_list_c = [preprocess.glove_twitter_preprocess(t) for t in tweets_test_c]\n",
    "tokenized_tweet_list_c = preprocess.nltk_tokenize(processed_tweet_list_c)\n",
    "documents_vector_c = preprocess.get_vector_from_vocabulary(vocabulary, tokenized_tweet_list_c)\n",
    "\n",
    "sub_c_label_test = task_c_test_label['labelc'].map(label2id).to_list()\n",
    "test_c_dataset = TextDataset(documents_vector_c, sub_c_label_test)\n",
    "test_c_loader = DataLoader(test_c_dataset, batch_size=32, shuffle=False, collate_fn=collate_fn)\n",
    "\n",
    "best_model = LSTMClassifier(embedding_dim, hidden_dim, output_dim, pretrained_embedding)\n",
    "best_model.load_state_dict(torch.load(best_model_path))\n",
    "best_model.eval()\n",
    "\n",
    "with torch.no_grad():\n",
    "    correct = 0\n",
    "    total = 0\n",
    "    pred, label = [],[]\n",
    "    for i, (inputs, labels, lengths) in enumerate(test_c_loader):\n",
    "        outputs = model(inputs.long(), lengths)\n",
    "        _, predicted = torch.max(outputs.data, 1)\n",
    "        pred.append(predicted)\n",
    "        label.append(labels)\n",
    "        total += labels.size(0)\n",
    "        correct += (predicted == labels).sum().item()\n",
    "\n",
    "    print(f\"Test Accuracy: {100 * correct / total:.2f}%\")\n",
    "\n",
    "y_pred = np.asarray(torch.cat(pred))\n",
    "y_label = np.asarray(torch.cat(label))\n",
    "print(metrics.f1_score(y_label, y_pred, average='micro'))\n",
    "print(metrics.classification_report(y_label, y_pred, target_names=['IND', 'GRP', 'OTH']))"
   ]
  },
  {
   "cell_type": "code",
   "execution_count": null,
   "metadata": {},
   "outputs": [],
   "source": []
  }
 ],
 "metadata": {
  "kernelspec": {
   "display_name": "base",
   "language": "python",
   "name": "python3"
  },
  "language_info": {
   "codemirror_mode": {
    "name": "ipython",
    "version": 3
   },
   "file_extension": ".py",
   "mimetype": "text/x-python",
   "name": "python",
   "nbconvert_exporter": "python",
   "pygments_lexer": "ipython3",
   "version": "3.9.12"
  },
  "orig_nbformat": 4,
  "vscode": {
   "interpreter": {
    "hash": "d8b59bf2e713f17ff47b76154068196e0642fc6c62d3839f6eb91aeb6e90fd05"
   }
  }
 },
 "nbformat": 4,
 "nbformat_minor": 2
}
