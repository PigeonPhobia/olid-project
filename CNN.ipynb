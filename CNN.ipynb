{
 "cells": [
  {
   "cell_type": "code",
   "execution_count": 36,
   "metadata": {},
   "outputs": [],
   "source": [
    "import numpy as np\n",
    "import pandas as pd\n",
    "\n",
    "from utils import preprocess\n",
    "import model\n",
    "from model.cnn import OlidCnnNet, OlidCnnAdvance\n",
    "from utils import plotutils\n",
    "from utils import trainutils\n",
    "\n",
    "from sklearn.model_selection import train_test_split\n",
    "from sklearn import metrics\n",
    "\n",
    "import torch\n",
    "import torch.nn as nn\n",
    "import torch.optim as optim\n",
    "import torch.nn.functional as F\n",
    "from torch.utils.data import TensorDataset, DataLoader, Dataset"
   ]
  },
  {
   "cell_type": "code",
   "execution_count": 37,
   "metadata": {},
   "outputs": [
    {
     "name": "stdout",
     "output_type": "stream",
     "text": [
      "The autoreload extension is already loaded. To reload it, use:\n",
      "  %reload_ext autoreload\n"
     ]
    }
   ],
   "source": [
    "%load_ext autoreload\n",
    "%autoreload 2"
   ]
  },
  {
   "cell_type": "code",
   "execution_count": 38,
   "metadata": {},
   "outputs": [
    {
     "name": "stdout",
     "output_type": "stream",
     "text": [
      "Available device: cuda:0\n"
     ]
    }
   ],
   "source": [
    "use_cuda = torch.cuda.is_available()\n",
    "device = torch.device(\"cuda:0\" if use_cuda else \"cpu\")\n",
    "print(\"Available device: {}\".format(device))"
   ]
  },
  {
   "cell_type": "code",
   "execution_count": 39,
   "metadata": {},
   "outputs": [],
   "source": [
    "DATA_DIR = \"./data/\"\n",
    "TRAIN_DATA_FILE = DATA_DIR + \"olid-training-v1.0.tsv\"\n",
    "TEST_A_DATA_FILE = DATA_DIR + \"testset-levela.tsv\"\n",
    "LABEL_A_DATA_FILE = DATA_DIR + \"labels-levela.csv\"\n",
    "TEST_B_DATA_FILE = DATA_DIR + \"testset-levelb.tsv\"\n",
    "LABEL_B_DATA_FILE = DATA_DIR + \"labels-levelb.csv\"\n",
    "TEST_C_DATA_FILE = DATA_DIR + \"testset-levelc.tsv\"\n",
    "LABEL_C_DATA_FILE = DATA_DIR + \"labels-levelc.csv\"\n",
    "\n",
    "ori_train_data = pd.read_csv(TRAIN_DATA_FILE, sep='\\t')\n",
    "\n",
    "task_a_test_data = pd.read_csv(TEST_A_DATA_FILE, sep='\\t')\n",
    "task_a_test_label = pd.read_csv(LABEL_A_DATA_FILE, usecols=[1], names=['labela'])\n",
    "\n",
    "task_b_test_data = pd.read_csv(TEST_B_DATA_FILE, sep='\\t')\n",
    "task_b_test_label = pd.read_csv(LABEL_B_DATA_FILE, usecols=[1], names=['labelb'])\n",
    "\n",
    "task_c_test_data = pd.read_csv(TEST_C_DATA_FILE, sep='\\t')\n",
    "task_c_test_label = pd.read_csv(LABEL_C_DATA_FILE, usecols=[1], names=['labelc'])"
   ]
  },
  {
   "cell_type": "code",
   "execution_count": 40,
   "metadata": {},
   "outputs": [],
   "source": [
    "from nltk.tokenize import TweetTokenizer\n",
    "from nltk.tokenize import word_tokenize\n",
    "from spacy.lang.en import stop_words\n",
    "from string import punctuation\n",
    "import emoji"
   ]
  },
  {
   "attachments": {},
   "cell_type": "markdown",
   "metadata": {},
   "source": [
    "## TASK A"
   ]
  },
  {
   "attachments": {},
   "cell_type": "markdown",
   "metadata": {},
   "source": [
    "#### Preprocess A"
   ]
  },
  {
   "cell_type": "code",
   "execution_count": 41,
   "metadata": {},
   "outputs": [],
   "source": [
    "tweets_train = ori_train_data[\"tweet\"].tolist()\n",
    "tweets_test_a = task_a_test_data[\"tweet\"].tolist()"
   ]
  },
  {
   "attachments": {},
   "cell_type": "markdown",
   "metadata": {},
   "source": [
    "Train data preprocess"
   ]
  },
  {
   "cell_type": "code",
   "execution_count": 42,
   "metadata": {},
   "outputs": [],
   "source": [
    "processed_tweet_list = [preprocess.glove_twitter_preprocess(t) for t in tweets_train]\n",
    "tokenized_tweet_list = preprocess.nltk_tokenize(processed_tweet_list)\n",
    "\n",
    "vocabulary, documents_padded = preprocess.transform_word_to_vector(tokenized_tweet_list, num_vocab=20000, num_tokens=80)"
   ]
  },
  {
   "attachments": {},
   "cell_type": "markdown",
   "metadata": {},
   "source": [
    "#### Word Embedding A"
   ]
  },
  {
   "cell_type": "code",
   "execution_count": 43,
   "metadata": {},
   "outputs": [],
   "source": [
    "#vocabulary, documents_vector = preprocess.transform_word_to_vector(tokenized_tweet_list, num_vocab=20000, padded=False)\n",
    "pretrained_embedding = preprocess.get_embedding_from_torch_text(vocabulary, \"twitter.27B\", 200)"
   ]
  },
  {
   "attachments": {},
   "cell_type": "markdown",
   "metadata": {},
   "source": [
    "#### Create Dataset A"
   ]
  },
  {
   "cell_type": "code",
   "execution_count": 44,
   "metadata": {},
   "outputs": [],
   "source": [
    "label2id = {'NOT': 0, 'OFF': 1}\n",
    "sub_a_label_train = ori_train_data['subtask_a'].map(label2id).to_list()\n",
    "sentences_train, sentences_test, labels_train, labels_test = train_test_split(documents_padded, sub_a_label_train, test_size=0.2, random_state=5246)"
   ]
  },
  {
   "cell_type": "code",
   "execution_count": 45,
   "metadata": {},
   "outputs": [],
   "source": [
    "train_dataset = TensorDataset(sentences_train, torch.tensor(labels_train))\n",
    "test_dataset = TensorDataset(sentences_test, torch.tensor(labels_test))"
   ]
  },
  {
   "cell_type": "code",
   "execution_count": 46,
   "metadata": {},
   "outputs": [],
   "source": [
    "batch_size = 512\n",
    "\n",
    "train_dataloader = DataLoader(train_dataset, batch_size=batch_size, shuffle=True)\n",
    "test_dataloader = DataLoader(test_dataset, batch_size=batch_size, shuffle=True)"
   ]
  },
  {
   "attachments": {},
   "cell_type": "markdown",
   "metadata": {},
   "source": [
    "#### Train A"
   ]
  },
  {
   "cell_type": "code",
   "execution_count": 47,
   "metadata": {},
   "outputs": [
    {
     "name": "stdout",
     "output_type": "stream",
     "text": [
      "OlidCnnAdvance(\n",
      "  (embedding): Embedding(19032, 200)\n",
      "  (conv_layers): ModuleDict(\n",
      "    (conv_2): Conv2d(1, 100, kernel_size=(2, 200), stride=(1, 1), padding=(1, 0))\n",
      "    (conv_3): Conv2d(1, 100, kernel_size=(3, 200), stride=(1, 1), padding=(1, 0))\n",
      "    (conv_4): Conv2d(1, 100, kernel_size=(4, 200), stride=(1, 1), padding=(1, 0))\n",
      "    (conv_5): Conv2d(1, 100, kernel_size=(5, 200), stride=(1, 1), padding=(1, 0))\n",
      "  )\n",
      "  (maxpool_layers): ModuleDict(\n",
      "    (maxpool_2): MaxPool2d(kernel_size=(1, 70), stride=(1, 70), padding=0, dilation=1, ceil_mode=False)\n",
      "    (maxpool_3): MaxPool2d(kernel_size=(1, 70), stride=(1, 70), padding=0, dilation=1, ceil_mode=False)\n",
      "    (maxpool_4): MaxPool2d(kernel_size=(1, 70), stride=(1, 70), padding=0, dilation=1, ceil_mode=False)\n",
      "    (maxpool_5): MaxPool2d(kernel_size=(1, 70), stride=(1, 70), padding=0, dilation=1, ceil_mode=False)\n",
      "  )\n",
      "  (linears): ModuleList(\n",
      "    (0): Linear(in_features=400, out_features=100, bias=True)\n",
      "    (1): ReLU()\n",
      "    (2): Dropout(p=0.5, inplace=False)\n",
      "  )\n",
      "  (out): Linear(in_features=100, out_features=2, bias=True)\n",
      ")\n"
     ]
    }
   ],
   "source": [
    "params = {\n",
    "    \"seq_len\": documents_padded.size(1),\n",
    "    \"in_channels\": 1,\n",
    "    \"vocab_size\": pretrained_embedding.shape[0],\n",
    "    \"embed_size\": pretrained_embedding.shape[1],\n",
    "    \"conv_kernel_sizes\": [2,3,4,5],\n",
    "    \"out_channels\": 100,\n",
    "    \"conv_stride\": 1,\n",
    "    \"conv_padding\": 1,\n",
    "    \"maxpool_kernel_size\": 70,\n",
    "    \"maxpool_padding\": 0,\n",
    "    \"linear_sizes\": [100],\n",
    "    \"linear_dropout\": 0.5,\n",
    "    \"output_size\": 2\n",
    "}\n",
    "\n",
    "# Define model paramaters\n",
    "params = trainutils.Dict2Class(params)\n",
    "# Create model  \n",
    "cnn = OlidCnnAdvance(params).to(device)\n",
    "\n",
    "# Load pretrained word embedding\n",
    "cnn.embedding.weight.data = pretrained_embedding.to(device)\n",
    "cnn.embedding.weight.requires_grad = False\n",
    "\n",
    "# Define optimizer\n",
    "optimizer = torch.optim.Adam(cnn.parameters(), lr=0.001, weight_decay=1e-5)\n",
    "# Define loss function\n",
    "criterion = nn.NLLLoss()\n",
    "print(cnn)"
   ]
  },
  {
   "cell_type": "code",
   "execution_count": 48,
   "metadata": {},
   "outputs": [
    {
     "name": "stdout",
     "output_type": "stream",
     "text": [
      "[Epoch 21] loss: 1.053,\t F1 train: 0.996,\t F1 test: 0.731,\t Best epoch: 10\n",
      "              precision    recall  f1-score   support\n",
      "\n",
      "           0       0.84      0.80      0.82      1750\n",
      "           1       0.65      0.71      0.68       898\n",
      "\n",
      "    accuracy                           0.77      2648\n",
      "   macro avg       0.75      0.75      0.75      2648\n",
      "weighted avg       0.78      0.77      0.77      2648\n",
      "\n",
      "No further improvement. Early stop.\n",
      "Best F1 score: 0.7492\n",
      "              precision    recall  f1-score   support\n",
      "\n",
      "           0       0.84      0.80      0.82      1750\n",
      "           1       0.65      0.71      0.68       898\n",
      "\n",
      "    accuracy                           0.77      2648\n",
      "   macro avg       0.75      0.75      0.75      2648\n",
      "weighted avg       0.78      0.77      0.77      2648\n",
      "\n"
     ]
    },
    {
     "data": {
      "image/png": "[encoded data removed]",
      "text/plain": [
       "<Figure size 640x480 with 1 Axes>"
      ]
     },
     "metadata": {},
     "output_type": "display_data"
    }
   ],
   "source": [
    "cnn.to(device)\n",
    "epochs = 30\n",
    "#trainutils.evaluate(cnn, test_dataloader, device)\n",
    "results, best_model, best_f1, best_report = trainutils.train(cnn, train_dataloader, test_dataloader, optimizer, criterion, epochs, device, verbose=True)\n",
    "print(f\"Best F1 score: {best_f1:.4f}\")\n",
    "print(best_report)\n",
    "plotutils.plot_training_results(results)"
   ]
  },
  {
   "attachments": {},
   "cell_type": "markdown",
   "metadata": {},
   "source": [
    "### Task A Evaluation"
   ]
  },
  {
   "cell_type": "code",
   "execution_count": 49,
   "metadata": {},
   "outputs": [
    {
     "name": "stdout",
     "output_type": "stream",
     "text": [
      "[1, 0, 0, 0, 1, 1, 0, 1, 0, 0, 0, 0, 0, 0, 1, 1, 0, 0, 0, 0, 0, 0, 0, 0, 0, 0, 0, 1, 0, 1, 1, 0, 0, 0, 0, 0, 0, 0, 1, 1, 1, 0, 0, 1, 0, 0, 0, 1, 1, 0, 0, 1, 0, 0, 0, 0, 0, 0, 0, 1, 0, 1, 0, 1, 1, 0, 0, 0, 0, 0, 1, 0, 1, 0, 0, 0, 0, 1, 0, 0, 1, 1, 0, 0, 0, 1, 0, 1, 1, 0, 0, 0, 0, 0, 0, 0, 0, 0, 1, 1, 1, 0, 0, 0, 0, 0, 0, 1, 1, 0, 1, 0, 0, 0, 0, 1, 0, 0, 0, 0, 0, 0, 0, 0, 0, 0, 0, 0, 0, 1, 1, 0, 0, 0, 0, 1, 1, 0, 1, 0, 1, 0, 1, 1, 0, 0, 0, 1, 0, 0, 0, 0, 1, 1, 1, 0, 1, 0, 0, 0, 1, 0, 0, 0, 1, 0, 0, 0, 1, 0, 0, 0, 0, 1, 0, 1, 0, 1, 0, 0, 1, 0, 1, 0, 0, 1, 1, 0, 0, 1, 0, 0, 0, 0, 0, 0, 1, 0, 0, 0, 0, 1, 1, 1, 0, 0, 0, 1, 0, 0, 0, 0, 1, 0, 0, 1, 1, 0, 0, 0, 0, 1, 1, 0, 0, 0, 0, 0, 1, 1, 0, 0, 0, 1, 0, 0, 0, 0, 0, 0, 0, 1, 0, 1, 0, 0, 0, 1, 0, 1, 0, 0, 0, 0, 0, 0, 0, 0, 1, 1, 1, 0, 1, 0, 1, 1, 0, 0, 0, 0, 0, 0, 0, 0, 1, 1, 0, 1, 0, 1, 0, 1, 1, 0, 0, 0, 0, 0, 0, 0, 0, 0, 0, 0, 0, 0, 0, 1, 0, 0, 0, 0, 0, 0, 0, 0, 0, 1, 1, 1, 1, 0, 1, 1, 1, 1, 0, 0, 0, 0, 0, 0, 0, 1, 1, 0, 1, 0, 0, 0, 0, 1, 0, 1, 1, 1, 0, 0, 0, 1, 0, 0, 0, 0, 0, 0, 0, 1, 0, 0, 0, 1, 1, 0, 0, 0, 0, 1, 0, 0, 0, 0, 1, 0, 0, 0, 0, 0, 0, 1, 1, 1, 1, 0, 0, 0, 1, 1, 0, 0, 0, 0, 1, 0, 0, 0, 0, 0, 0, 1, 0, 0, 0, 0, 0, 0, 0, 0, 0, 0, 1, 0, 0, 1, 0, 0, 1, 0, 1, 0, 0, 0, 0, 1, 1, 0, 0, 0, 0, 0, 1, 0, 1, 0, 0, 0, 1, 0, 1, 1, 0, 0, 1, 1, 0, 0, 0, 1, 0, 1, 0, 0, 0, 1, 0, 1, 0, 1, 0, 0, 0, 0, 0, 0, 0, 1, 0, 0, 0, 0, 1, 0, 1, 0, 0, 0, 0, 0, 1, 0, 1, 0, 0, 0, 0, 1, 0, 0, 1, 0, 1, 0, 0, 1, 0, 0, 0, 0, 1, 0, 0, 1, 0, 0, 1, 1, 0, 0, 0, 0, 0, 0, 1, 1, 0, 1, 0, 1, 0, 1, 0, 1, 1, 0, 0, 1, 0, 0, 0, 0, 0, 0, 0, 0, 0, 0, 1, 0, 0, 0, 0, 1, 0, 1, 0, 0, 0, 0, 0, 0, 0, 0, 0, 0, 0, 0, 0, 0, 0, 1, 0, 0, 0, 0, 1, 1, 0, 0, 0, 1, 0, 0, 0, 0, 0, 0, 1, 1, 0, 1, 0, 0, 1, 0, 0, 0, 0, 0, 0, 1, 0, 0, 0, 0, 1, 0, 0, 1, 0, 0, 0, 1, 1, 0, 1, 0, 0, 0, 0, 0, 0, 1, 0, 0, 0, 0, 0, 0, 0, 1, 0, 0, 0, 1, 1, 1, 0, 1, 0, 0, 0, 0, 0, 0, 0, 0, 0, 0, 0, 1, 0, 0, 1, 0, 1, 0, 0, 1, 1, 1, 1, 0, 0, 0, 0, 0, 0, 0, 0, 1, 0, 0, 0, 0, 0, 0, 0, 1, 0, 0, 0, 0, 0, 1, 0, 1, 0, 1, 0, 0, 0, 0, 0, 0, 0, 0, 1, 0, 0, 1, 0, 1, 0, 0, 0, 0, 0, 0, 0, 0, 1, 1, 0, 0, 0, 0, 0, 0, 1, 0, 0, 1, 1, 1, 0, 0, 0, 0, 0, 0, 0, 1, 0, 0, 0, 0, 0, 0, 0, 0, 0, 0, 0, 0, 0, 0, 0, 0, 0, 0, 1, 0, 1, 0, 0, 0, 1, 1, 0, 0, 1, 1, 0, 0, 1, 0, 0, 0, 1, 1, 0, 1, 0, 0, 0, 1, 0, 0, 0, 0, 0, 0, 1, 0, 1, 1, 0, 1, 0, 0, 0, 1, 0, 0, 1, 1, 0, 0, 1, 0, 0, 0, 1, 0, 0, 0, 1, 0, 0, 0, 0, 1, 0, 0, 0, 0, 0, 1, 0, 0, 1, 0, 0, 0, 0, 0, 0, 0, 0, 0, 1, 0, 0, 0, 1, 0, 0, 0, 1, 0, 0, 0, 0, 1, 0, 0, 1, 1, 0, 0, 0, 0, 0, 1, 1, 1, 0, 0, 0, 0, 0, 0, 1, 0, 0, 0, 0, 1, 0, 0, 0, 0, 0, 1, 0, 1, 0, 1, 0, 0]\n"
     ]
    }
   ],
   "source": [
    "processed_tweet_list = [preprocess.glove_twitter_preprocess(t) for t in tweets_test_a]\n",
    "tokenized_tweet_list = preprocess.nltk_tokenize(processed_tweet_list)\n",
    "\n",
    "documents_padded = preprocess.get_vector_from_vocabulary(vocabulary, tokenized_tweet_list,  padded=True, num_tokens=80)\n",
    "\n",
    "sub_a_label_test = task_a_test_label['labela'].map(label2id).to_list()\n",
    "print(sub_a_label_test)\n",
    "test_a_dataset = TensorDataset(documents_padded, torch.tensor(sub_a_label_test))\n",
    "test_a_dataloader = DataLoader(test_a_dataset, batch_size=batch_size, shuffle=True)"
   ]
  },
  {
   "cell_type": "code",
   "execution_count": 50,
   "metadata": {},
   "outputs": [
    {
     "name": "stdout",
     "output_type": "stream",
     "text": [
      "0.7481905038987391\n",
      "              precision    recall  f1-score   support\n",
      "\n",
      "           0       0.84      0.93      0.88       620\n",
      "           1       0.75      0.53      0.62       240\n",
      "\n",
      "    accuracy                           0.82       860\n",
      "   macro avg       0.79      0.73      0.75       860\n",
      "weighted avg       0.81      0.82      0.81       860\n",
      "\n"
     ]
    }
   ],
   "source": [
    "cnn.load_state_dict(best_model)\n",
    "f1_a, report_a = trainutils.evaluate(cnn, test_a_dataloader, device)\n",
    "print(f1_a)\n",
    "print(report_a)"
   ]
  },
  {
   "attachments": {},
   "cell_type": "markdown",
   "metadata": {},
   "source": [
    "## TASK B"
   ]
  },
  {
   "attachments": {},
   "cell_type": "markdown",
   "metadata": {},
   "source": [
    "#### Preprocess B"
   ]
  },
  {
   "cell_type": "code",
   "execution_count": 51,
   "metadata": {},
   "outputs": [],
   "source": [
    "tweets_b_train = ori_train_data[ori_train_data[\"subtask_a\"] == \"OFF\"][\"tweet\"].to_list()\n",
    "#tweets_b_test = task_b_test_data[\"tweet\"].tolist()"
   ]
  },
  {
   "cell_type": "code",
   "execution_count": 52,
   "metadata": {},
   "outputs": [],
   "source": [
    "processed_tweet_list = [preprocess.glove_twitter_preprocess(t) for t in tweets_b_train]\n",
    "tokenized_tweet_list = preprocess.nltk_tokenize(processed_tweet_list)\n",
    "vocabulary, documents_padded = preprocess.transform_word_to_vector(tokenized_tweet_list, num_vocab=10000, num_tokens=70)"
   ]
  },
  {
   "attachments": {},
   "cell_type": "markdown",
   "metadata": {},
   "source": [
    "#### Word Embedding B"
   ]
  },
  {
   "cell_type": "code",
   "execution_count": 53,
   "metadata": {},
   "outputs": [],
   "source": [
    "vocabulary, documents_vector = preprocess.transform_word_to_vector(tokenized_tweet_list, num_vocab=10000, padded=False)\n",
    "pretrained_embedding = preprocess.get_embedding_from_torch_text(vocabulary, \"twitter.27B\", 200)"
   ]
  },
  {
   "attachments": {},
   "cell_type": "markdown",
   "metadata": {},
   "source": [
    "#### Train B"
   ]
  },
  {
   "cell_type": "code",
   "execution_count": 54,
   "metadata": {},
   "outputs": [],
   "source": [
    "label2id = {'UNT': 0, 'TIN': 1}\n",
    "sub_b_label_train = ori_train_data[ori_train_data[\"subtask_a\"] == \"OFF\"][\"subtask_b\"].map(label2id).to_list()\n",
    "#sub_b_label_test = task_b_test_label['labelb'].map(label2id).to_list()\n",
    "sentences_train, sentences_test, labels_train, labels_test = train_test_split(documents_padded, sub_b_label_train, test_size=0.2, random_state=5246)"
   ]
  },
  {
   "cell_type": "code",
   "execution_count": 55,
   "metadata": {},
   "outputs": [],
   "source": [
    "train_dataset = TensorDataset(sentences_train, torch.tensor(labels_train))\n",
    "test_dataset = TensorDataset(sentences_test, torch.tensor(labels_test))"
   ]
  },
  {
   "cell_type": "code",
   "execution_count": 56,
   "metadata": {},
   "outputs": [],
   "source": [
    "batch_size = 512\n",
    "\n",
    "train_dataloader = DataLoader(train_dataset, batch_size=batch_size, shuffle=True)\n",
    "test_dataloader = DataLoader(test_dataset, batch_size=batch_size, shuffle=True)"
   ]
  },
  {
   "cell_type": "code",
   "execution_count": 57,
   "metadata": {},
   "outputs": [
    {
     "name": "stdout",
     "output_type": "stream",
     "text": [
      "OlidCnnAdvance(\n",
      "  (embedding): Embedding(10004, 200)\n",
      "  (conv_layers): ModuleDict(\n",
      "    (conv_2): Conv2d(1, 10, kernel_size=(2, 200), stride=(1, 1), padding=(1, 0))\n",
      "    (conv_3): Conv2d(1, 10, kernel_size=(3, 200), stride=(1, 1), padding=(1, 0))\n",
      "    (conv_4): Conv2d(1, 10, kernel_size=(4, 200), stride=(1, 1), padding=(1, 0))\n",
      "  )\n",
      "  (maxpool_layers): ModuleDict(\n",
      "    (maxpool_2): MaxPool2d(kernel_size=(1, 50), stride=(1, 50), padding=0, dilation=1, ceil_mode=False)\n",
      "    (maxpool_3): MaxPool2d(kernel_size=(1, 50), stride=(1, 50), padding=0, dilation=1, ceil_mode=False)\n",
      "    (maxpool_4): MaxPool2d(kernel_size=(1, 50), stride=(1, 50), padding=0, dilation=1, ceil_mode=False)\n",
      "  )\n",
      "  (linears): ModuleList(\n",
      "    (0): Linear(in_features=30, out_features=70, bias=True)\n",
      "    (1): ReLU()\n",
      "    (2): Dropout(p=0.5, inplace=False)\n",
      "  )\n",
      "  (out): Linear(in_features=70, out_features=2, bias=True)\n",
      ")\n"
     ]
    }
   ],
   "source": [
    "params = {\n",
    "    \"seq_len\": documents_padded.size(1),\n",
    "    \"in_channels\": 1,\n",
    "    \"vocab_size\": pretrained_embedding.shape[0],\n",
    "    \"embed_size\": pretrained_embedding.shape[1],\n",
    "    \"conv_kernel_sizes\": [2,3,4],\n",
    "    \"out_channels\": 10,\n",
    "    \"conv_stride\": 1,\n",
    "    \"conv_padding\": 1,\n",
    "    \"maxpool_kernel_size\": 50,\n",
    "    \"maxpool_padding\": 0,\n",
    "    \"linear_sizes\": [70],\n",
    "    \"linear_dropout\": 0.5,\n",
    "    \"output_size\": 2\n",
    "}\n",
    "\n",
    "# Define model paramaters\n",
    "params = trainutils.Dict2Class(params)\n",
    "# Create model  \n",
    "cnn = OlidCnnAdvance(params).to(device)\n",
    "\n",
    "# Load pretrained word embedding\n",
    "cnn.embedding.weight.data = pretrained_embedding.to(device)\n",
    "cnn.embedding.weight.requires_grad = False\n",
    "\n",
    "# Define optimizer\n",
    "optimizer = torch.optim.Adam(cnn.parameters(), lr=0.001, weight_decay=1e-5)\n",
    "# Define loss function\n",
    "criterion = nn.NLLLoss()\n",
    "\n",
    "print(cnn)"
   ]
  },
  {
   "cell_type": "code",
   "execution_count": 58,
   "metadata": {},
   "outputs": [
    {
     "name": "stderr",
     "output_type": "stream",
     "text": [
      "c:\\Users\\kateq\\anaconda3\\lib\\site-packages\\sklearn\\metrics\\_classification.py:1344: UndefinedMetricWarning: Precision and F-score are ill-defined and being set to 0.0 in labels with no predicted samples. Use `zero_division` parameter to control this behavior.\n",
      "  _warn_prf(average, modifier, msg_start, len(result))\n",
      "c:\\Users\\kateq\\anaconda3\\lib\\site-packages\\sklearn\\metrics\\_classification.py:1344: UndefinedMetricWarning: Precision and F-score are ill-defined and being set to 0.0 in labels with no predicted samples. Use `zero_division` parameter to control this behavior.\n",
      "  _warn_prf(average, modifier, msg_start, len(result))\n",
      "c:\\Users\\kateq\\anaconda3\\lib\\site-packages\\sklearn\\metrics\\_classification.py:1344: UndefinedMetricWarning: Precision and F-score are ill-defined and being set to 0.0 in labels with no predicted samples. Use `zero_division` parameter to control this behavior.\n",
      "  _warn_prf(average, modifier, msg_start, len(result))\n",
      "c:\\Users\\kateq\\anaconda3\\lib\\site-packages\\sklearn\\metrics\\_classification.py:1344: UndefinedMetricWarning: Precision and F-score are ill-defined and being set to 0.0 in labels with no predicted samples. Use `zero_division` parameter to control this behavior.\n",
      "  _warn_prf(average, modifier, msg_start, len(result))\n",
      "c:\\Users\\kateq\\anaconda3\\lib\\site-packages\\sklearn\\metrics\\_classification.py:1344: UndefinedMetricWarning: Precision and F-score are ill-defined and being set to 0.0 in labels with no predicted samples. Use `zero_division` parameter to control this behavior.\n",
      "  _warn_prf(average, modifier, msg_start, len(result))\n",
      "c:\\Users\\kateq\\anaconda3\\lib\\site-packages\\sklearn\\metrics\\_classification.py:1344: UndefinedMetricWarning: Precision and F-score are ill-defined and being set to 0.0 in labels with no predicted samples. Use `zero_division` parameter to control this behavior.\n",
      "  _warn_prf(average, modifier, msg_start, len(result))\n"
     ]
    },
    {
     "name": "stdout",
     "output_type": "stream",
     "text": [
      "[Epoch 12] loss: 2.441,\t F1 train: 0.469,\t F1 test: 0.464,\t Best epoch: 01\n",
      "              precision    recall  f1-score   support\n",
      "\n",
      "           0       0.00      0.00      0.00       117\n",
      "           1       0.87      1.00      0.93       763\n",
      "\n",
      "    accuracy                           0.87       880\n",
      "   macro avg       0.43      0.50      0.46       880\n",
      "weighted avg       0.75      0.87      0.81       880\n",
      "\n",
      "No further improvement. Early stop.\n",
      "Best F1 score: 0.4644\n",
      "              precision    recall  f1-score   support\n",
      "\n",
      "           0       0.00      0.00      0.00       117\n",
      "           1       0.87      1.00      0.93       763\n",
      "\n",
      "    accuracy                           0.87       880\n",
      "   macro avg       0.43      0.50      0.46       880\n",
      "weighted avg       0.75      0.87      0.81       880\n",
      "\n"
     ]
    },
    {
     "data": {
      "image/png": "[encoded data removed]",
      "text/plain": [
       "<Figure size 640x480 with 1 Axes>"
      ]
     },
     "metadata": {},
     "output_type": "display_data"
    }
   ],
   "source": [
    "cnn.to(device)\n",
    "epochs = 50\n",
    "#trainutils.evaluate(cnn, test_dataloader, device)\n",
    "results, best_model_b, best_f1, best_report = trainutils.train(cnn, train_dataloader, test_dataloader, optimizer, criterion, epochs, device, verbose=True)\n",
    "print(f\"Best F1 score: {best_f1:.4f}\")\n",
    "print(best_report)\n",
    "plotutils.plot_training_results(results)"
   ]
  },
  {
   "attachments": {},
   "cell_type": "markdown",
   "metadata": {},
   "source": [
    "### Task B Evaluation"
   ]
  },
  {
   "cell_type": "code",
   "execution_count": 59,
   "metadata": {},
   "outputs": [
    {
     "name": "stdout",
     "output_type": "stream",
     "text": [
      "[1, 1, 1, 1, 0, 1, 1, 1, 1, 1, 1, 0, 1, 1, 0, 1, 1, 1, 1, 1, 0, 1, 1, 1, 1, 1, 1, 1, 1, 1, 1, 1, 1, 1, 1, 1, 1, 1, 1, 1, 1, 1, 1, 1, 1, 1, 1, 0, 1, 1, 1, 1, 1, 1, 1, 1, 1, 0, 1, 1, 1, 1, 0, 1, 1, 1, 1, 1, 1, 1, 1, 1, 1, 1, 1, 1, 1, 1, 1, 0, 1, 1, 1, 1, 1, 1, 1, 1, 1, 0, 1, 1, 1, 1, 1, 1, 1, 1, 1, 1, 1, 1, 1, 1, 1, 1, 0, 1, 1, 0, 1, 1, 1, 0, 0, 1, 1, 1, 1, 0, 1, 1, 1, 1, 1, 1, 0, 1, 1, 1, 1, 1, 1, 0, 1, 0, 1, 1, 0, 1, 1, 1, 1, 1, 1, 0, 1, 1, 1, 1, 1, 0, 1, 1, 1, 1, 1, 0, 1, 1, 1, 1, 1, 1, 1, 1, 1, 1, 1, 1, 1, 1, 1, 1, 0, 1, 0, 1, 1, 1, 1, 1, 1, 0, 1, 1, 1, 1, 1, 1, 1, 1, 1, 1, 1, 1, 1, 1, 1, 1, 1, 1, 1, 1, 1, 1, 1, 1, 0, 1, 1, 1, 1, 1, 1, 1, 1, 1, 1, 1, 1, 1, 1, 1, 0, 1, 1, 1, 1, 1, 1, 1, 1, 1, 1, 1, 1, 1, 1, 0]\n"
     ]
    }
   ],
   "source": [
    "tweets_test_b = task_b_test_data[\"tweet\"].tolist()\n",
    "processed_tweet_list = [preprocess.glove_twitter_preprocess(t) for t in tweets_test_b]\n",
    "tokenized_tweet_list = preprocess.nltk_tokenize(processed_tweet_list)\n",
    "\n",
    "documents_padded = preprocess.get_vector_from_vocabulary(vocabulary, tokenized_tweet_list,  padded=True, num_tokens=70)\n",
    "\n",
    "sub_b_label_test = task_b_test_label['labelb'].map(label2id).to_list()\n",
    "print(sub_b_label_test)\n",
    "test_b_dataset = TensorDataset(documents_padded, torch.tensor(sub_b_label_test))\n",
    "test_b_dataloader = DataLoader(test_b_dataset, batch_size=batch_size, shuffle=True)"
   ]
  },
  {
   "cell_type": "code",
   "execution_count": 60,
   "metadata": {},
   "outputs": [
    {
     "name": "stdout",
     "output_type": "stream",
     "text": [
      "0.47019867549668876\n",
      "              precision    recall  f1-score   support\n",
      "\n",
      "           0       0.00      0.00      0.00        27\n",
      "           1       0.89      1.00      0.94       213\n",
      "\n",
      "    accuracy                           0.89       240\n",
      "   macro avg       0.44      0.50      0.47       240\n",
      "weighted avg       0.79      0.89      0.83       240\n",
      "\n"
     ]
    },
    {
     "name": "stderr",
     "output_type": "stream",
     "text": [
      "c:\\Users\\kateq\\anaconda3\\lib\\site-packages\\sklearn\\metrics\\_classification.py:1344: UndefinedMetricWarning: Precision and F-score are ill-defined and being set to 0.0 in labels with no predicted samples. Use `zero_division` parameter to control this behavior.\n",
      "  _warn_prf(average, modifier, msg_start, len(result))\n",
      "c:\\Users\\kateq\\anaconda3\\lib\\site-packages\\sklearn\\metrics\\_classification.py:1344: UndefinedMetricWarning: Precision and F-score are ill-defined and being set to 0.0 in labels with no predicted samples. Use `zero_division` parameter to control this behavior.\n",
      "  _warn_prf(average, modifier, msg_start, len(result))\n",
      "c:\\Users\\kateq\\anaconda3\\lib\\site-packages\\sklearn\\metrics\\_classification.py:1344: UndefinedMetricWarning: Precision and F-score are ill-defined and being set to 0.0 in labels with no predicted samples. Use `zero_division` parameter to control this behavior.\n",
      "  _warn_prf(average, modifier, msg_start, len(result))\n"
     ]
    }
   ],
   "source": [
    "cnn.load_state_dict(best_model_b)\n",
    "f1_b, report_b = trainutils.evaluate(cnn, test_b_dataloader, device)\n",
    "print(f1_b)\n",
    "print(report_b)"
   ]
  },
  {
   "attachments": {},
   "cell_type": "markdown",
   "metadata": {},
   "source": [
    "## TASK C"
   ]
  },
  {
   "attachments": {},
   "cell_type": "markdown",
   "metadata": {},
   "source": [
    "#### PreProcess C"
   ]
  },
  {
   "cell_type": "code",
   "execution_count": 61,
   "metadata": {},
   "outputs": [],
   "source": [
    "tweets_c_train = ori_train_data[ori_train_data[\"subtask_b\"] == \"TIN\"][\"tweet\"].to_list()\n",
    "tweets_c_test = task_b_test_data[\"tweet\"].tolist()"
   ]
  },
  {
   "cell_type": "code",
   "execution_count": 62,
   "metadata": {},
   "outputs": [],
   "source": [
    "processed_tweet_list = [preprocess.glove_twitter_preprocess(t) for t in tweets_c_train]\n",
    "tokenized_tweet_list = preprocess.nltk_tokenize(processed_tweet_list)\n",
    "vocabulary, documents_padded = preprocess.transform_word_to_vector(tokenized_tweet_list, num_vocab=10000, num_tokens=100)"
   ]
  },
  {
   "attachments": {},
   "cell_type": "markdown",
   "metadata": {},
   "source": [
    "#### Word Embedding C"
   ]
  },
  {
   "cell_type": "code",
   "execution_count": 63,
   "metadata": {},
   "outputs": [],
   "source": [
    "vocabulary, documents_vector = preprocess.transform_word_to_vector(tokenized_tweet_list, num_vocab=10000, padded=False)\n",
    "pretrained_embedding = preprocess.get_embedding_from_torch_text(vocabulary, \"twitter.27B\", 200)"
   ]
  },
  {
   "attachments": {},
   "cell_type": "markdown",
   "metadata": {},
   "source": [
    "#### Train C"
   ]
  },
  {
   "cell_type": "code",
   "execution_count": 64,
   "metadata": {},
   "outputs": [],
   "source": [
    "label2id = {'IND': 0, 'GRP': 1, 'OTH': 2}\n",
    "sub_c_label_train = ori_train_data[ori_train_data[\"subtask_b\"] == \"TIN\"][\"subtask_c\"].map(label2id).to_list()\n",
    "sentences_train, sentences_test, labels_train, labels_test = train_test_split(documents_padded, sub_c_label_train, test_size=0.2, random_state=5246)"
   ]
  },
  {
   "cell_type": "code",
   "execution_count": 65,
   "metadata": {},
   "outputs": [],
   "source": [
    "train_dataset = TensorDataset(sentences_train, torch.tensor(labels_train))\n",
    "test_dataset = TensorDataset(sentences_test, torch.tensor(labels_test))"
   ]
  },
  {
   "cell_type": "code",
   "execution_count": 66,
   "metadata": {},
   "outputs": [],
   "source": [
    "batch_size = 512\n",
    "\n",
    "train_dataloader = DataLoader(train_dataset, batch_size=batch_size, shuffle=True)\n",
    "test_dataloader = DataLoader(test_dataset, batch_size=batch_size)"
   ]
  },
  {
   "cell_type": "code",
   "execution_count": 67,
   "metadata": {},
   "outputs": [
    {
     "name": "stdout",
     "output_type": "stream",
     "text": [
      "OlidCnnAdvance(\n",
      "  (embedding): Embedding(9675, 200)\n",
      "  (conv_layers): ModuleDict(\n",
      "    (conv_1): Conv2d(1, 100, kernel_size=(1, 200), stride=(1, 1), padding=(1, 0))\n",
      "    (conv_2): Conv2d(1, 100, kernel_size=(2, 200), stride=(1, 1), padding=(1, 0))\n",
      "    (conv_3): Conv2d(1, 100, kernel_size=(3, 200), stride=(1, 1), padding=(1, 0))\n",
      "    (conv_4): Conv2d(1, 100, kernel_size=(4, 200), stride=(1, 1), padding=(1, 0))\n",
      "    (conv_5): Conv2d(1, 100, kernel_size=(5, 200), stride=(1, 1), padding=(1, 0))\n",
      "  )\n",
      "  (maxpool_layers): ModuleDict(\n",
      "    (maxpool_1): MaxPool2d(kernel_size=(1, 70), stride=(1, 70), padding=0, dilation=1, ceil_mode=False)\n",
      "    (maxpool_2): MaxPool2d(kernel_size=(1, 70), stride=(1, 70), padding=0, dilation=1, ceil_mode=False)\n",
      "    (maxpool_3): MaxPool2d(kernel_size=(1, 70), stride=(1, 70), padding=0, dilation=1, ceil_mode=False)\n",
      "    (maxpool_4): MaxPool2d(kernel_size=(1, 70), stride=(1, 70), padding=0, dilation=1, ceil_mode=False)\n",
      "    (maxpool_5): MaxPool2d(kernel_size=(1, 70), stride=(1, 70), padding=0, dilation=1, ceil_mode=False)\n",
      "  )\n",
      "  (linears): ModuleList(\n",
      "    (0): Linear(in_features=500, out_features=100, bias=True)\n",
      "    (1): ReLU()\n",
      "    (2): Dropout(p=0.5, inplace=False)\n",
      "  )\n",
      "  (out): Linear(in_features=100, out_features=3, bias=True)\n",
      ")\n"
     ]
    }
   ],
   "source": [
    "params = {\n",
    "    \"seq_len\": documents_padded.size(1),\n",
    "    \"in_channels\": 1,\n",
    "    \"vocab_size\": pretrained_embedding.shape[0],\n",
    "    \"embed_size\": pretrained_embedding.shape[1],\n",
    "    \"conv_kernel_sizes\": [1,2,3,4,5],\n",
    "    \"out_channels\": 100,\n",
    "    \"conv_stride\": 1,\n",
    "    \"conv_padding\": 1,\n",
    "    \"maxpool_kernel_size\": 70,\n",
    "    \"maxpool_padding\": 0,\n",
    "    \"linear_sizes\": [100],\n",
    "    \"linear_dropout\": 0.5,\n",
    "    \"output_size\": 3\n",
    "}\n",
    "\n",
    "# Define model paramaters\n",
    "params = trainutils.Dict2Class(params)\n",
    "# Create model  \n",
    "cnn = OlidCnnAdvance(params).to(device)\n",
    "\n",
    "# Load pretrained word embedding\n",
    "cnn.embedding.weight.data = pretrained_embedding.to(device)\n",
    "cnn.embedding.weight.requires_grad = False\n",
    "\n",
    "# Define optimizer\n",
    "optimizer = torch.optim.Adam(cnn.parameters(), lr=0.001, weight_decay=1e-5)\n",
    "# Define loss function\n",
    "criterion = nn.NLLLoss()\n",
    "\n",
    "print(cnn)"
   ]
  },
  {
   "cell_type": "code",
   "execution_count": 68,
   "metadata": {},
   "outputs": [
    {
     "ename": "KeyboardInterrupt",
     "evalue": "",
     "output_type": "error",
     "traceback": [
      "\u001b[1;31m---------------------------------------------------------------------------\u001b[0m",
      "\u001b[1;31mKeyboardInterrupt\u001b[0m                         Traceback (most recent call last)",
      "Cell \u001b[1;32mIn[68], line 4\u001b[0m\n\u001b[0;32m      2\u001b[0m epochs \u001b[39m=\u001b[39m \u001b[39m50\u001b[39m\n\u001b[0;32m      3\u001b[0m \u001b[39m#trainutils.evaluate(cnn, test_dataloader, device)\u001b[39;00m\n\u001b[1;32m----> 4\u001b[0m results, best_model_c, best_f1, best_report \u001b[39m=\u001b[39m trainutils\u001b[39m.\u001b[39;49mtrain(cnn, train_dataloader, test_dataloader, optimizer, criterion, epochs, device, verbose\u001b[39m=\u001b[39;49m\u001b[39mTrue\u001b[39;49;00m)\n\u001b[0;32m      5\u001b[0m \u001b[39mprint\u001b[39m(\u001b[39mf\u001b[39m\u001b[39m\"\u001b[39m\u001b[39mBest F1 score: \u001b[39m\u001b[39m{\u001b[39;00mbest_f1\u001b[39m:\u001b[39;00m\u001b[39m.4f\u001b[39m\u001b[39m}\u001b[39;00m\u001b[39m\"\u001b[39m)\n\u001b[0;32m      6\u001b[0m \u001b[39mprint\u001b[39m(best_report)\n",
      "File \u001b[1;32mc:\\Users\\kateq\\OneDrive - National University of Singapore\\CS2\\CS5246 Text Mining\\olid-project\\utils\\trainutils.py:170\u001b[0m, in \u001b[0;36mtrain\u001b[1;34m(model, loader_train, loader_test, optimizer, criterion, num_epochs, device, verbose)\u001b[0m\n\u001b[0;32m    168\u001b[0m clear_output(wait\u001b[39m=\u001b[39m\u001b[39mTrue\u001b[39;00m)\n\u001b[0;32m    169\u001b[0m model\u001b[39m.\u001b[39mtrain()\n\u001b[1;32m--> 170\u001b[0m epoch_loss \u001b[39m=\u001b[39m train_epoch(model, loader_train, optimizer, criterion, device)\n\u001b[0;32m    171\u001b[0m model\u001b[39m.\u001b[39meval()\n\u001b[0;32m    172\u001b[0m f1_train, report_train \u001b[39m=\u001b[39m evaluate(model, loader_train, device)\n",
      "File \u001b[1;32mc:\\Users\\kateq\\OneDrive - National University of Singapore\\CS2\\CS5246 Text Mining\\olid-project\\utils\\trainutils.py:147\u001b[0m, in \u001b[0;36mtrain_epoch\u001b[1;34m(model, loader, optimizer, criterion, device)\u001b[0m\n\u001b[0;32m    145\u001b[0m optimizer\u001b[39m.\u001b[39mzero_grad()\n\u001b[0;32m    146\u001b[0m loss\u001b[39m.\u001b[39mbackward()\n\u001b[1;32m--> 147\u001b[0m torch\u001b[39m.\u001b[39;49mnn\u001b[39m.\u001b[39;49mutils\u001b[39m.\u001b[39;49mclip_grad_norm_(model\u001b[39m.\u001b[39;49mparameters(),\u001b[39m1\u001b[39;49m)\n\u001b[0;32m    148\u001b[0m optimizer\u001b[39m.\u001b[39mstep()\n\u001b[0;32m    149\u001b[0m optimizer\u001b[39m.\u001b[39mzero_grad()\n",
      "File \u001b[1;32mc:\\Users\\kateq\\anaconda3\\lib\\site-packages\\torch\\nn\\utils\\clip_grad.py:76\u001b[0m, in \u001b[0;36mclip_grad_norm_\u001b[1;34m(parameters, max_norm, norm_type, error_if_nonfinite, foreach)\u001b[0m\n\u001b[0;32m     74\u001b[0m \u001b[39mfor\u001b[39;00m ((device, _), [grads]) \u001b[39min\u001b[39;00m grouped_grads\u001b[39m.\u001b[39mitems():\n\u001b[0;32m     75\u001b[0m     \u001b[39mif\u001b[39;00m (foreach \u001b[39mis\u001b[39;00m \u001b[39mNone\u001b[39;00m \u001b[39mor\u001b[39;00m foreach) \u001b[39mand\u001b[39;00m _has_foreach_support(grads, device\u001b[39m=\u001b[39mdevice):\n\u001b[1;32m---> 76\u001b[0m         torch\u001b[39m.\u001b[39;49m_foreach_mul_(grads, clip_coef_clamped\u001b[39m.\u001b[39;49mto(device))  \u001b[39m# type: ignore[call-overload]\u001b[39;00m\n\u001b[0;32m     77\u001b[0m     \u001b[39melif\u001b[39;00m foreach:\n\u001b[0;32m     78\u001b[0m         \u001b[39mraise\u001b[39;00m \u001b[39mRuntimeError\u001b[39;00m(\u001b[39mf\u001b[39m\u001b[39m'\u001b[39m\u001b[39mforeach=True was passed, but can\u001b[39m\u001b[39m\\'\u001b[39;00m\u001b[39mt use the foreach API on \u001b[39m\u001b[39m{\u001b[39;00mdevice\u001b[39m.\u001b[39mtype\u001b[39m}\u001b[39;00m\u001b[39m tensors\u001b[39m\u001b[39m'\u001b[39m)\n",
      "\u001b[1;31mKeyboardInterrupt\u001b[0m: "
     ]
    }
   ],
   "source": [
    "cnn.to(device)\n",
    "epochs = 50\n",
    "#trainutils.evaluate(cnn, test_dataloader, device)\n",
    "results, best_model_c, best_f1, best_report = trainutils.train(cnn, train_dataloader, test_dataloader, optimizer, criterion, epochs, device, verbose=True)\n",
    "print(f\"Best F1 score: {best_f1:.4f}\")\n",
    "print(best_report)\n",
    "plotutils.plot_training_results(results)"
   ]
  },
  {
   "attachments": {},
   "cell_type": "markdown",
   "metadata": {},
   "source": [
    "### Task C Evaluation"
   ]
  },
  {
   "cell_type": "code",
   "execution_count": null,
   "metadata": {},
   "outputs": [
    {
     "name": "stdout",
     "output_type": "stream",
     "text": [
      "[2, 1, 0, 2, 0, 0, 1, 0, 0, 0, 1, 0, 1, 2, 1, 0, 1, 1, 2, 2, 0, 1, 0, 0, 1, 0, 0, 2, 2, 0, 2, 0, 0, 0, 0, 1, 0, 0, 0, 1, 0, 1, 1, 1, 1, 0, 0, 0, 1, 0, 1, 0, 1, 2, 1, 0, 1, 2, 0, 1, 1, 0, 2, 0, 0, 2, 0, 1, 1, 2, 0, 1, 1, 1, 2, 0, 2, 0, 1, 2, 1, 2, 0, 0, 1, 0, 1, 0, 0, 1, 0, 1, 0, 1, 0, 1, 1, 0, 1, 1, 0, 1, 1, 1, 0, 0, 1, 2, 2, 1, 0, 0, 1, 2, 0, 0, 0, 2, 0, 2, 0, 0, 1, 1, 2, 0, 1, 0, 2, 1, 0, 0, 0, 0, 1, 1, 0, 0, 2, 2, 1, 2, 0, 2, 1, 0, 1, 1, 0, 1, 2, 0, 0, 0, 1, 0, 1, 1, 0, 1, 1, 1, 1, 2, 0, 1, 0, 1, 2, 0, 0, 0, 0, 0, 0, 0, 0, 0, 0, 0, 0, 2, 0, 1, 0, 1, 0, 1, 0, 1, 0, 2, 2, 0, 1, 2, 0, 1, 1, 1, 0, 0, 1, 1, 0, 0, 1, 0, 0, 1, 0, 1, 1]\n"
     ]
    }
   ],
   "source": [
    "tweets_test_c = task_c_test_data[\"tweet\"].tolist()\n",
    "processed_tweet_list = [preprocess.glove_twitter_preprocess(t) for t in tweets_test_c]\n",
    "tokenized_tweet_list = preprocess.nltk_tokenize(processed_tweet_list)\n",
    "\n",
    "documents_padded = preprocess.get_vector_from_vocabulary(vocabulary, tokenized_tweet_list,  padded=True, num_tokens=100)\n",
    "\n",
    "sub_c_label_test = task_c_test_label['labelc'].map(label2id).to_list()\n",
    "print(sub_c_label_test)\n",
    "test_c_dataset = TensorDataset(documents_padded, torch.tensor(sub_c_label_test))\n",
    "test_c_dataloader = DataLoader(test_c_dataset, batch_size=batch_size, shuffle=True)"
   ]
  },
  {
   "cell_type": "code",
   "execution_count": null,
   "metadata": {},
   "outputs": [
    {
     "name": "stdout",
     "output_type": "stream",
     "text": [
      "0.5080013141186044\n",
      "              precision    recall  f1-score   support\n",
      "\n",
      "           0       0.75      0.80      0.77       100\n",
      "           1       0.63      0.79      0.70        78\n",
      "           2       0.12      0.03      0.05        35\n",
      "\n",
      "    accuracy                           0.67       213\n",
      "   macro avg       0.50      0.54      0.51       213\n",
      "weighted avg       0.60      0.67      0.63       213\n",
      "\n"
     ]
    }
   ],
   "source": [
    "cnn.load_state_dict(best_model_c)\n",
    "f1_c, report_c = trainutils.evaluate(cnn, test_c_dataloader, device)\n",
    "print(f1_c)\n",
    "print(report_c)"
   ]
  }
 ],
 "metadata": {
  "kernelspec": {
   "display_name": "base",
   "language": "python",
   "name": "python3"
  },
  "language_info": {
   "codemirror_mode": {
    "name": "ipython",
    "version": 3
   },
   "file_extension": ".py",
   "mimetype": "text/x-python",
   "name": "python",
   "nbconvert_exporter": "python",
   "pygments_lexer": "ipython3",
   "version": "3.9.12"
  },
  "orig_nbformat": 4
 },
 "nbformat": 4,
 "nbformat_minor": 2
}
