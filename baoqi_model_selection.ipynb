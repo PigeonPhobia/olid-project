{
 "cells": [
  {
   "cell_type": "code",
   "execution_count": 112,
   "id": "5e38c050-ad70-43d5-93f4-80f8022c03a3",
   "metadata": {},
   "outputs": [],
   "source": [
    "import re\n",
    "import numpy as np\n",
    "import pandas as pd\n",
    "\n",
    "from utils import preprocess, plotutils\n",
    "\n",
    "from sklearn.naive_bayes import MultinomialNB\n",
    "from sklearn.neighbors import KNeighborsClassifier\n",
    "from sklearn.linear_model import LogisticRegression\n",
    "from sklearn.feature_extraction.text import TfidfVectorizer\n",
    "from sklearn.model_selection import train_test_split, cross_val_score, GridSearchCV, StratifiedKFold\n",
    "from sklearn import metrics\n",
    "from sklearn.pipeline import Pipeline\n",
    "\n",
    "from tqdm import tqdm"
   ]
  },
  {
   "cell_type": "code",
   "execution_count": 2,
   "id": "67d2ce3f-6a95-49bb-8ed6-19bcf194d140",
   "metadata": {},
   "outputs": [],
   "source": [
    "%load_ext autoreload\n",
    "%autoreload 2"
   ]
  },
  {
   "cell_type": "code",
   "execution_count": 3,
   "id": "43adda53-5dcd-453f-b40d-654987c48d1c",
   "metadata": {},
   "outputs": [],
   "source": [
    "DATA_DIR = \"./data/\"\n",
    "TRAIN_DATA_FILE = DATA_DIR + \"olid-training-v1.0.tsv\""
   ]
  },
  {
   "cell_type": "markdown",
   "id": "85ce7db0-0cfe-4aa7-9ce8-1d2227fdcaef",
   "metadata": {},
   "source": [
    "# Prepare data"
   ]
  },
  {
   "cell_type": "code",
   "execution_count": 291,
   "id": "7180d462-31f5-45ca-8ea6-04cb5c595ad3",
   "metadata": {},
   "outputs": [],
   "source": [
    "ori_train_data = pd.read_csv(TRAIN_DATA_FILE, sep='\\t')"
   ]
  },
  {
   "cell_type": "code",
   "execution_count": 6,
   "id": "e0ad4cca-e6ec-4f89-9901-fa267e7352ef",
   "metadata": {},
   "outputs": [
    {
     "name": "stdout",
     "output_type": "stream",
     "text": [
      "CPU times: total: 1min 22s\n",
      "Wall time: 1min 23s\n"
     ]
    }
   ],
   "source": [
    "%%time\n",
    "\n",
    "tweet_doc = preprocess.spacy_pipeline(ori_train_data['tweet'].to_list())\n",
    "tweet_normalized_wo_stop = preprocess.spacy_normalize(tweet_doc, stop_removal=True)\n",
    "tweet_normalized_with_stop = preprocess.spacy_normalize(tweet_doc, stop_removal=False)"
   ]
  },
  {
   "cell_type": "markdown",
   "id": "be7cdd4e-fbe6-4522-8e08-54911f59608f",
   "metadata": {},
   "source": [
    "Remove the \"@user\" mask."
   ]
  },
  {
   "cell_type": "code",
   "execution_count": 7,
   "id": "3e0b93d3-1300-4b32-bf90-aa082e42dc70",
   "metadata": {},
   "outputs": [],
   "source": [
    "tweet_normalized_with_stop = preprocess.remove_user_mask(tweet_normalized_with_stop)\n",
    "tweet_normalized_wo_stop = preprocess.remove_user_mask(tweet_normalized_wo_stop)"
   ]
  },
  {
   "cell_type": "code",
   "execution_count": 289,
   "id": "8580f296-8a49-40ec-ab31-c95004840fdb",
   "metadata": {},
   "outputs": [],
   "source": [
    "tweets_wo_stop = preprocess.join_as_sentence(tweet_normalized_wo_stop)\n",
    "tweets_with_stop = preprocess.join_as_sentence(tweet_normalized_with_stop)"
   ]
  },
  {
   "cell_type": "markdown",
   "id": "36db07fa-92c4-4935-b6b4-510f2fff040e",
   "metadata": {},
   "source": [
    "# LogReg"
   ]
  },
  {
   "cell_type": "markdown",
   "id": "b0e236b9-bcb4-4c8d-9324-131c05d784ee",
   "metadata": {},
   "source": [
    "## sub a"
   ]
  },
  {
   "cell_type": "code",
   "execution_count": 292,
   "id": "0ab271d6-8dd8-4edd-9fe4-9106130fc375",
   "metadata": {},
   "outputs": [],
   "source": [
    "sub_a_label = ori_train_data['subtask_a'].map(label2id).to_list()"
   ]
  },
  {
   "cell_type": "code",
   "execution_count": 293,
   "id": "b1df2860-dc5e-4478-8aa6-b3db9337bed7",
   "metadata": {},
   "outputs": [],
   "source": [
    "label2id = {'NOT': 0, 'OFF': 1}"
   ]
  },
  {
   "cell_type": "code",
   "execution_count": 294,
   "id": "bc091b0a-903e-4b91-89f7-609b10a969ee",
   "metadata": {},
   "outputs": [
    {
     "name": "stdout",
     "output_type": "stream",
     "text": [
      "Size of training set: 10592\n",
      "Size of test set: 2648\n"
     ]
    }
   ],
   "source": [
    "sentences_train, sentences_test, labels_train, labels_test = train_test_split(tweets_wo_stop, sub_a_label, test_size=0.2, random_state=5246)\n",
    "\n",
    "y_train = np.asarray(labels_train)\n",
    "y_test = np.asarray(labels_test)\n",
    "\n",
    "print(\"Size of training set: {}\".format(len(sentences_train)))\n",
    "print(\"Size of test set: {}\".format(len(sentences_test)))"
   ]
  },
  {
   "cell_type": "code",
   "execution_count": 222,
   "id": "85b92fc4-8f7b-498b-8522-37955c768365",
   "metadata": {},
   "outputs": [],
   "source": [
    "pipeline = Pipeline([\n",
    "    ('tfidf', TfidfVectorizer()),\n",
    "    ('logreg', LogisticRegression(solver='liblinear')),\n",
    "])"
   ]
  },
  {
   "cell_type": "code",
   "execution_count": 227,
   "id": "62828603-f5e7-43e1-af4c-067168112eb7",
   "metadata": {},
   "outputs": [],
   "source": [
    "parameters = {\n",
    "    'tfidf__max_df': (0.1, 0.2, 0.3),\n",
    "    'tfidf__max_features': (10000, 15000),\n",
    "    'tfidf__ngram_range': ((1, 1), (1, 2), (1, 3)),\n",
    "    'logreg__C': (1.0, 10.0, 100.0)\n",
    "}"
   ]
  },
  {
   "cell_type": "code",
   "execution_count": 228,
   "id": "4ba3ebcf-fb93-4cec-983d-9e294cdac12c",
   "metadata": {},
   "outputs": [
    {
     "name": "stdout",
     "output_type": "stream",
     "text": [
      "CPU times: total: 1.47 s\n",
      "Wall time: 21.7 s\n"
     ]
    }
   ],
   "source": [
    "%%time\n",
    "\n",
    "kf = StratifiedKFold(n_splits=5, shuffle=True, random_state=5246)\n",
    "grid_search = GridSearchCV(pipeline, parameters, n_jobs=-1, cv=kf, scoring='f1_macro')\n",
    "grid_search = grid_search.fit(sentences_train, labels_train)"
   ]
  },
  {
   "cell_type": "code",
   "execution_count": 225,
   "id": "8b9509d0-8f1c-47a1-9f0d-00d1e96af2ef",
   "metadata": {},
   "outputs": [
    {
     "name": "stdout",
     "output_type": "stream",
     "text": [
      "{'logreg__C': 10.0, 'tfidf__max_df': 0.2, 'tfidf__max_features': 15000, 'tfidf__ngram_range': (1, 1)}\n"
     ]
    }
   ],
   "source": [
    "print(grid_search.best_params_)"
   ]
  },
  {
   "cell_type": "markdown",
   "id": "7881a8f3-a9ef-4ece-abd5-77eb0605c911",
   "metadata": {},
   "source": [
    "Below are best params:\n",
    "```\n",
    "{'logreg__C': 10.0, 'tfidf__max_df': 0.2, 'tfidf__max_features': 15000, 'tfidf__ngram_range': (1, 1)}\n",
    "```"
   ]
  },
  {
   "cell_type": "code",
   "execution_count": 229,
   "id": "80e22ac3-7e0c-4d20-94ba-bf76a9b16148",
   "metadata": {},
   "outputs": [
    {
     "name": "stdout",
     "output_type": "stream",
     "text": [
      "              precision    recall  f1-score   support\n",
      "\n",
      "         NOT       0.78      0.87      0.83      1750\n",
      "         OFF       0.68      0.53      0.60       898\n",
      "\n",
      "    accuracy                           0.76      2648\n",
      "   macro avg       0.73      0.70      0.71      2648\n",
      "weighted avg       0.75      0.76      0.75      2648\n",
      "\n"
     ]
    }
   ],
   "source": [
    "tfidf_vectorizer = TfidfVectorizer(ngram_range=(1, 1), max_features=15000, max_df=0.2)\n",
    "\n",
    "X_train = tfidf_vectorizer.fit_transform(sentences_train)\n",
    "X_test = tfidf_vectorizer.transform(sentences_test)\n",
    "\n",
    "model = LogisticRegression(solver='liblinear', C=10.0).fit(X_train, y_train)\n",
    "y_pred = model.predict(X_test)\n",
    "\n",
    "print(metrics.classification_report(y_test, y_pred, target_names=['NOT', 'OFF']))"
   ]
  },
  {
   "cell_type": "markdown",
   "id": "960e9faa-1ddf-4df3-8be4-2666b3883675",
   "metadata": {},
   "source": [
    "## sub b"
   ]
  },
  {
   "cell_type": "code",
   "execution_count": 129,
   "id": "4f52c4ec-b7e4-423e-ad62-7d3c326e539c",
   "metadata": {},
   "outputs": [],
   "source": [
    "sub_b_idx = list(ori_train_data[ori_train_data['subtask_b'].notna()].index)"
   ]
  },
  {
   "cell_type": "code",
   "execution_count": 200,
   "id": "ea6682fb-de80-438f-b774-760b38676479",
   "metadata": {},
   "outputs": [],
   "source": [
    "tweets = [t for i, t in enumerate(tweets) if i in sub_b_idx]"
   ]
  },
  {
   "cell_type": "code",
   "execution_count": 201,
   "id": "6a0b288a-5a20-46f0-abc8-8d7e6abb5bac",
   "metadata": {},
   "outputs": [],
   "source": [
    "label2id = {'UNT': 0, 'TIN': 1}"
   ]
  },
  {
   "cell_type": "code",
   "execution_count": 202,
   "id": "eafe4eb1-cd87-4325-badd-3547e7ef1806",
   "metadata": {},
   "outputs": [],
   "source": [
    "sub_b_label = ori_train_data.loc[sub_b_idx]['subtask_b'].map(label2id).to_list()"
   ]
  },
  {
   "cell_type": "code",
   "execution_count": 203,
   "id": "bd09bc41-5f4c-47f3-891c-232a6c7eb332",
   "metadata": {},
   "outputs": [
    {
     "name": "stdout",
     "output_type": "stream",
     "text": [
      "Size of training set: 3520\n",
      "Size of test set: 880\n"
     ]
    }
   ],
   "source": [
    "sentences_train, sentences_test, labels_train, labels_test = train_test_split(tweets, sub_b_label, test_size=0.2, random_state=5246)\n",
    "\n",
    "y_train = np.asarray(labels_train)\n",
    "y_test = np.asarray(labels_test)\n",
    "\n",
    "print(\"Size of training set: {}\".format(len(sentences_train)))\n",
    "print(\"Size of test set: {}\".format(len(sentences_test)))"
   ]
  },
  {
   "cell_type": "code",
   "execution_count": 208,
   "id": "0a974205-a5c4-4117-96d1-e1c82590167e",
   "metadata": {},
   "outputs": [],
   "source": [
    "pipeline = Pipeline([\n",
    "    ('tfidf', TfidfVectorizer()),\n",
    "    ('logreg', LogisticRegression(solver='liblinear')),\n",
    "])"
   ]
  },
  {
   "cell_type": "code",
   "execution_count": 213,
   "id": "b49f8ac1-97be-4903-bd47-8bba9fb443dc",
   "metadata": {},
   "outputs": [],
   "source": [
    "parameters = {\n",
    "    'tfidf__max_df': (0.1, 0.2, 0.3),\n",
    "    'tfidf__max_features': (10000, 15000, 20000),\n",
    "    'tfidf__ngram_range': ((1, 2), (1, 3), (1, 4)),\n",
    "    'logreg__C': (1.0, 10.0, 100.0)\n",
    "}"
   ]
  },
  {
   "cell_type": "code",
   "execution_count": 210,
   "id": "ecb914bf-effa-4202-a62e-6aebabe80c39",
   "metadata": {},
   "outputs": [
    {
     "name": "stdout",
     "output_type": "stream",
     "text": [
      "CPU times: total: 1.73 s\n",
      "Wall time: 25.4 s\n"
     ]
    }
   ],
   "source": [
    "%%time\n",
    "\n",
    "kf = StratifiedKFold(n_splits=5, shuffle=True, random_state=5246)\n",
    "grid_search = GridSearchCV(pipeline, parameters, n_jobs=-1, cv=kf, scoring='f1_macro')\n",
    "grid_search = grid_search.fit(sentences_train, labels_train)"
   ]
  },
  {
   "cell_type": "code",
   "execution_count": 211,
   "id": "fbbbadfe-a48f-4560-81aa-2316dbea7d8e",
   "metadata": {},
   "outputs": [
    {
     "name": "stdout",
     "output_type": "stream",
     "text": [
      "{'logreg__C': 100.0, 'tfidf__max_df': 0.2, 'tfidf__max_features': 15000, 'tfidf__ngram_range': (1, 3)}\n"
     ]
    }
   ],
   "source": [
    "print(grid_search.best_params_)"
   ]
  },
  {
   "cell_type": "markdown",
   "id": "09842b9b-4d2b-4d3c-b7b9-700759a489cf",
   "metadata": {},
   "source": [
    "Below are best params:\n",
    "```\n",
    "{'logreg__C': 100.0, 'tfidf__max_df': 0.2, 'tfidf__max_features': 15000, 'tfidf__ngram_range': (1, 3)}\n",
    "```"
   ]
  },
  {
   "cell_type": "code",
   "execution_count": 212,
   "id": "42cf4a2a-85ce-4497-bbe0-5a69aba7e8b4",
   "metadata": {},
   "outputs": [
    {
     "name": "stdout",
     "output_type": "stream",
     "text": [
      "              precision    recall  f1-score   support\n",
      "\n",
      "         UNT       0.34      0.14      0.20       117\n",
      "         TIN       0.88      0.96      0.92       763\n",
      "\n",
      "    accuracy                           0.85       880\n",
      "   macro avg       0.61      0.55      0.56       880\n",
      "weighted avg       0.81      0.85      0.82       880\n",
      "\n"
     ]
    }
   ],
   "source": [
    "tfidf_vectorizer = TfidfVectorizer(ngram_range=(1, 3), max_features=15000, max_df=0.2)\n",
    "\n",
    "X_train = tfidf_vectorizer.fit_transform(sentences_train)\n",
    "X_test = tfidf_vectorizer.transform(sentences_test)\n",
    "\n",
    "model = LogisticRegression(solver='liblinear', C=100.0).fit(X_train, y_train)\n",
    "y_pred = model.predict(X_test)\n",
    "\n",
    "print(metrics.classification_report(y_test, y_pred, target_names=['UNT', 'TIN']))"
   ]
  },
  {
   "cell_type": "markdown",
   "id": "ec3a14ed-e1b0-48ba-89d2-24a01fab911a",
   "metadata": {},
   "source": [
    "## sub c"
   ]
  },
  {
   "cell_type": "code",
   "execution_count": 230,
   "id": "f13bf795-8089-46ba-b994-832440e61d77",
   "metadata": {},
   "outputs": [],
   "source": [
    "sub_c_idx = list(ori_train_data[ori_train_data['subtask_c'].notna()].index)"
   ]
  },
  {
   "cell_type": "code",
   "execution_count": 290,
   "id": "275fc155-4705-40d3-9a3b-68b286ed731a",
   "metadata": {},
   "outputs": [],
   "source": [
    "tweets = [t for i, t in enumerate(tweets_with_stop) if i in sub_c_idx]"
   ]
  },
  {
   "cell_type": "code",
   "execution_count": 265,
   "id": "27e40d84-c5c9-483b-ba64-cca3a1ad8814",
   "metadata": {},
   "outputs": [],
   "source": [
    "label2id = {'IND': 0, 'GRP': 1, 'OTH': 2}"
   ]
  },
  {
   "cell_type": "code",
   "execution_count": 266,
   "id": "4aa9cfce-789a-4878-96ee-5983c5391833",
   "metadata": {},
   "outputs": [],
   "source": [
    "sub_c_label = ori_train_data.loc[sub_c_idx]['subtask_c'].map(label2id).to_list()"
   ]
  },
  {
   "cell_type": "code",
   "execution_count": 267,
   "id": "39f99fac-f5c0-4590-84d7-cde7c937f105",
   "metadata": {},
   "outputs": [
    {
     "name": "stdout",
     "output_type": "stream",
     "text": [
      "Size of training set: 3100\n",
      "Size of test set: 776\n"
     ]
    }
   ],
   "source": [
    "sentences_train, sentences_test, labels_train, labels_test = train_test_split(tweets, sub_c_label, test_size=0.2, random_state=5246)\n",
    "\n",
    "y_train = np.asarray(labels_train)\n",
    "y_test = np.asarray(labels_test)\n",
    "\n",
    "print(\"Size of training set: {}\".format(len(sentences_train)))\n",
    "print(\"Size of test set: {}\".format(len(sentences_test)))"
   ]
  },
  {
   "cell_type": "code",
   "execution_count": 280,
   "id": "0e3a93d4-8b4e-4dcc-96a9-7f7a234e9176",
   "metadata": {},
   "outputs": [],
   "source": [
    "pipeline = Pipeline([\n",
    "    ('tfidf', TfidfVectorizer()),\n",
    "    ('logreg', LogisticRegression(solver='liblinear')),\n",
    "])"
   ]
  },
  {
   "cell_type": "code",
   "execution_count": 281,
   "id": "027e2206-ff58-43c5-bb55-a35a1a4b325a",
   "metadata": {},
   "outputs": [],
   "source": [
    "parameters = {\n",
    "    'tfidf__max_df': (0.1, 0.2, 0.3),\n",
    "    'tfidf__max_features': (15000, 20000, 25000),\n",
    "    'tfidf__ngram_range': ((1, 3), (1, 4), (1, 5), (1, 6)),\n",
    "    'logreg__C': (10.0, 100.0, 1000.0)\n",
    "}"
   ]
  },
  {
   "cell_type": "code",
   "execution_count": 282,
   "id": "a21a9a02-79c4-4692-b8be-5a41e7337158",
   "metadata": {},
   "outputs": [
    {
     "name": "stdout",
     "output_type": "stream",
     "text": [
      "CPU times: total: 3.48 s\n",
      "Wall time: 1min 30s\n"
     ]
    }
   ],
   "source": [
    "%%time\n",
    "\n",
    "kf = StratifiedKFold(n_splits=5, shuffle=True, random_state=5246)\n",
    "grid_search = GridSearchCV(pipeline, parameters, n_jobs=-1, cv=kf, scoring='f1_macro')\n",
    "grid_search = grid_search.fit(sentences_train, labels_train)"
   ]
  },
  {
   "cell_type": "code",
   "execution_count": 283,
   "id": "3b723ac2-3bdd-4c64-b466-9b09f5266b43",
   "metadata": {},
   "outputs": [
    {
     "name": "stdout",
     "output_type": "stream",
     "text": [
      "{'logreg__C': 100.0, 'tfidf__max_df': 0.2, 'tfidf__max_features': 25000, 'tfidf__ngram_range': (1, 5)}\n"
     ]
    }
   ],
   "source": [
    "print(grid_search.best_params_)"
   ]
  },
  {
   "cell_type": "markdown",
   "id": "a3bec2c6-6040-4f96-8e0a-eb8aaa4d6155",
   "metadata": {},
   "source": [
    "Below are best params:\n",
    "```\n",
    "{'logreg__C': 100.0, 'tfidf__max_df': 0.2, 'tfidf__max_features': 25000, 'tfidf__ngram_range': (1, 5)}\n",
    "```"
   ]
  },
  {
   "cell_type": "code",
   "execution_count": 286,
   "id": "1723a5d2-698a-4db6-950e-a649fc07fe84",
   "metadata": {},
   "outputs": [
    {
     "name": "stdout",
     "output_type": "stream",
     "text": [
      "              precision    recall  f1-score   support\n",
      "\n",
      "         IND       0.79      0.85      0.82       500\n",
      "         GRP       0.56      0.60      0.58       203\n",
      "         OTH       0.27      0.08      0.13        73\n",
      "\n",
      "    accuracy                           0.71       776\n",
      "   macro avg       0.54      0.51      0.51       776\n",
      "weighted avg       0.68      0.71      0.69       776\n",
      "\n"
     ]
    }
   ],
   "source": [
    "tfidf_vectorizer = TfidfVectorizer(ngram_range=(1, 5), max_features=25000, max_df=0.2)\n",
    "\n",
    "X_train = tfidf_vectorizer.fit_transform(sentences_train)\n",
    "X_test = tfidf_vectorizer.transform(sentences_test)\n",
    "\n",
    "model = LogisticRegression(solver='liblinear', C=100.0).fit(X_train, y_train)\n",
    "y_pred = model.predict(X_test)\n",
    "\n",
    "print(metrics.classification_report(y_test, y_pred, target_names=['IND', 'GRP', 'OTH']))"
   ]
  },
  {
   "cell_type": "code",
   "execution_count": null,
   "id": "962ad16c-c356-4f68-ac67-adad5f042d3b",
   "metadata": {},
   "outputs": [],
   "source": []
  }
 ],
 "metadata": {
  "kernelspec": {
   "display_name": "cs5246",
   "language": "python",
   "name": "cs5246"
  },
  "language_info": {
   "codemirror_mode": {
    "name": "ipython",
    "version": 3
   },
   "file_extension": ".py",
   "mimetype": "text/x-python",
   "name": "python",
   "nbconvert_exporter": "python",
   "pygments_lexer": "ipython3",
   "version": "3.9.15"
  }
 },
 "nbformat": 4,
 "nbformat_minor": 5
}
