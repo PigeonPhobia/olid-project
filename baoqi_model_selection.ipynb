{
 "cells": [
  {
   "cell_type": "code",
   "execution_count": 57,
   "id": "5e38c050-ad70-43d5-93f4-80f8022c03a3",
   "metadata": {},
   "outputs": [],
   "source": [
    "import re\n",
    "import numpy as np\n",
    "import pandas as pd\n",
    "\n",
    "from utils import preprocess, plotutils\n",
    "\n",
    "from sklearn.naive_bayes import MultinomialNB\n",
    "from sklearn.linear_model import LogisticRegression\n",
    "from sklearn.feature_extraction.text import TfidfVectorizer\n",
    "from sklearn.model_selection import train_test_split, cross_val_score, GridSearchCV, StratifiedKFold\n",
    "from sklearn import metrics\n",
    "from sklearn.pipeline import Pipeline\n",
    "\n",
    "from tqdm import tqdm"
   ]
  },
  {
   "cell_type": "code",
   "execution_count": 2,
   "id": "67d2ce3f-6a95-49bb-8ed6-19bcf194d140",
   "metadata": {},
   "outputs": [],
   "source": [
    "%load_ext autoreload\n",
    "%autoreload 2"
   ]
  },
  {
   "cell_type": "code",
   "execution_count": 3,
   "id": "43adda53-5dcd-453f-b40d-654987c48d1c",
   "metadata": {},
   "outputs": [],
   "source": [
    "DATA_DIR = \"./data/\"\n",
    "TRAIN_DATA_FILE = DATA_DIR + \"olid-training-v1.0.tsv\""
   ]
  },
  {
   "cell_type": "markdown",
   "id": "85ce7db0-0cfe-4aa7-9ce8-1d2227fdcaef",
   "metadata": {},
   "source": [
    "# Prepare data"
   ]
  },
  {
   "cell_type": "code",
   "execution_count": 4,
   "id": "7180d462-31f5-45ca-8ea6-04cb5c595ad3",
   "metadata": {},
   "outputs": [],
   "source": [
    "ori_train_data = pd.read_csv(TRAIN_DATA_FILE, sep='\\t')\n",
    "label2id = {'NOT': 0, 'OFF': 1}"
   ]
  },
  {
   "cell_type": "code",
   "execution_count": 5,
   "id": "272247b9-0e2d-4e60-a6b7-9fd336645c7b",
   "metadata": {},
   "outputs": [],
   "source": [
    "sub_a_label = ori_train_data['subtask_a'].map(label2id).to_list()"
   ]
  },
  {
   "cell_type": "code",
   "execution_count": 6,
   "id": "e0ad4cca-e6ec-4f89-9901-fa267e7352ef",
   "metadata": {},
   "outputs": [
    {
     "name": "stdout",
     "output_type": "stream",
     "text": [
      "CPU times: total: 1min 22s\n",
      "Wall time: 1min 23s\n"
     ]
    }
   ],
   "source": [
    "%%time\n",
    "\n",
    "tweet_doc = preprocess.spacy_pipeline(ori_train_data['tweet'].to_list())\n",
    "tweet_normalized_wo_stop = preprocess.spacy_normalize(tweet_doc, stop_removal=True)\n",
    "tweet_normalized_with_stop = preprocess.spacy_normalize(tweet_doc, stop_removal=False)"
   ]
  },
  {
   "cell_type": "markdown",
   "id": "be7cdd4e-fbe6-4522-8e08-54911f59608f",
   "metadata": {},
   "source": [
    "Remove the \"@user\" mask."
   ]
  },
  {
   "cell_type": "code",
   "execution_count": 7,
   "id": "3e0b93d3-1300-4b32-bf90-aa082e42dc70",
   "metadata": {},
   "outputs": [],
   "source": [
    "tweet_normalized_with_stop = preprocess.remove_user_mask(tweet_normalized_with_stop)\n",
    "tweet_normalized_wo_stop = preprocess.remove_user_mask(tweet_normalized_wo_stop)"
   ]
  },
  {
   "cell_type": "code",
   "execution_count": 35,
   "id": "8580f296-8a49-40ec-ab31-c95004840fdb",
   "metadata": {},
   "outputs": [],
   "source": [
    "tweets = preprocess.join_as_sentence(tweet_normalized_wo_stop)\n",
    "#tweets = preprocess.join_as_sentence(tweet_normalized_with_stop)"
   ]
  },
  {
   "cell_type": "markdown",
   "id": "65f4b0d2-8cff-49cb-b20f-52b6bd9ed436",
   "metadata": {},
   "source": [
    "# Naive Bayes"
   ]
  },
  {
   "cell_type": "code",
   "execution_count": 43,
   "id": "d56dea41-1b43-48c7-a93e-6beed60fc201",
   "metadata": {},
   "outputs": [
    {
     "name": "stdout",
     "output_type": "stream",
     "text": [
      "Size of training set: 10592\n",
      "Size of test set: 2648\n"
     ]
    }
   ],
   "source": [
    "sentences_train, sentences_test, labels_train, labels_test = train_test_split(tweets, sub_a_label, test_size=0.2, random_state=5246)\n",
    "\n",
    "y_train = np.asarray(labels_train)\n",
    "y_test = np.asarray(labels_test)\n",
    "\n",
    "print(\"Size of training set: {}\".format(len(sentences_train)))\n",
    "print(\"Size of test set: {}\".format(len(sentences_test)))"
   ]
  },
  {
   "cell_type": "code",
   "execution_count": 44,
   "id": "8692009d-efd3-462d-bd0c-607f6cf3ab0a",
   "metadata": {},
   "outputs": [],
   "source": [
    "# Create Document-Term Matrix for differen n-gram sizes\n",
    "tfidf_vectorizer = TfidfVectorizer(ngram_range=(1, 1), max_features=10000)\n",
    "\n",
    "X_train = tfidf_vectorizer.fit_transform(sentences_train)\n",
    "X_test = tfidf_vectorizer.transform(sentences_test)"
   ]
  },
  {
   "cell_type": "code",
   "execution_count": 45,
   "id": "2401bf32-6f93-4071-9759-b8eef6d6610b",
   "metadata": {},
   "outputs": [],
   "source": [
    "pipeline = Pipeline([\n",
    "    ('tfidf', TfidfVectorizer()),\n",
    "    ('nb', MultinomialNB()),\n",
    "])"
   ]
  },
  {
   "cell_type": "code",
   "execution_count": 49,
   "id": "1bf82632-d50a-4716-ab4e-1328e1c2ddb4",
   "metadata": {},
   "outputs": [],
   "source": [
    "parameters = {\n",
    "    'tfidf__max_df': (0.1, 0.2, 0.3),\n",
    "    'tfidf__max_features': (5000, 10000, 20000),\n",
    "    'tfidf__ngram_range': ((1, 3), (1, 4), (1, 5)),\n",
    "    'nb__alpha': (0.01, 0.02, 0.03)\n",
    "}"
   ]
  },
  {
   "cell_type": "code",
   "execution_count": 50,
   "id": "ab9b3001-f1c0-4dd3-9641-6e2069977e00",
   "metadata": {},
   "outputs": [
    {
     "name": "stdout",
     "output_type": "stream",
     "text": [
      "CPU times: total: 2.84 s\n",
      "Wall time: 1min 10s\n"
     ]
    }
   ],
   "source": [
    "%%time\n",
    "\n",
    "kf = StratifiedKFold(n_splits=5, shuffle=True, random_state=5246)\n",
    "grid_search = GridSearchCV(pipeline, parameters, n_jobs=-1, cv=kf, scoring='recall')\n",
    "grid_search = grid_search.fit(sentences_train, labels_train)"
   ]
  },
  {
   "cell_type": "code",
   "execution_count": 51,
   "id": "256b3439-62a2-4bf2-9bc7-28df16e26d22",
   "metadata": {},
   "outputs": [
    {
     "name": "stdout",
     "output_type": "stream",
     "text": [
      "{'nb__alpha': 0.01, 'tfidf__max_df': 0.1, 'tfidf__max_features': 20000, 'tfidf__ngram_range': (1, 3)}\n"
     ]
    }
   ],
   "source": [
    "print(grid_search.best_params_)"
   ]
  },
  {
   "cell_type": "markdown",
   "id": "f48c0c0d-95c2-4110-af36-2b71ca45503c",
   "metadata": {},
   "source": [
    "Below are best params:\n",
    "```\n",
    "{'nb__alpha': 0.01, 'tfidf__max_df': 0.1, 'tfidf__max_features': 20000, 'tfidf__ngram_range': (1, 3)}\n",
    "```"
   ]
  },
  {
   "cell_type": "code",
   "execution_count": 55,
   "id": "ff900e5a-81d9-4ce3-8812-c9612c2259fc",
   "metadata": {},
   "outputs": [
    {
     "name": "stdout",
     "output_type": "stream",
     "text": [
      "              precision    recall  f1-score   support\n",
      "\n",
      "         NOT       0.74      0.87      0.80      1750\n",
      "         OFF       0.63      0.42      0.50       898\n",
      "\n",
      "    accuracy                           0.72      2648\n",
      "   macro avg       0.69      0.64      0.65      2648\n",
      "weighted avg       0.70      0.72      0.70      2648\n",
      "\n"
     ]
    }
   ],
   "source": [
    "tfidf_vectorizer = TfidfVectorizer(ngram_range=(1, 3), max_features=10000, max_df=0.1)\n",
    "\n",
    "X_train = tfidf_vectorizer.fit_transform(sentences_train)\n",
    "X_test = tfidf_vectorizer.transform(sentences_test)\n",
    "\n",
    "model = MultinomialNB(alpha=0.01).fit(X_train, y_train)\n",
    "y_pred = model.predict(X_test)\n",
    "\n",
    "print(metrics.classification_report(y_test, y_pred, target_names=['NOT', 'OFF']))"
   ]
  },
  {
   "cell_type": "markdown",
   "id": "36db07fa-92c4-4935-b6b4-510f2fff040e",
   "metadata": {},
   "source": [
    "# LogReg"
   ]
  },
  {
   "cell_type": "code",
   "execution_count": 77,
   "id": "85b92fc4-8f7b-498b-8522-37955c768365",
   "metadata": {},
   "outputs": [],
   "source": [
    "pipeline = Pipeline([\n",
    "    ('tfidf', TfidfVectorizer()),\n",
    "    ('logreg', LogisticRegression()),\n",
    "])"
   ]
  },
  {
   "cell_type": "code",
   "execution_count": 78,
   "id": "62828603-f5e7-43e1-af4c-067168112eb7",
   "metadata": {},
   "outputs": [],
   "source": [
    "parameters = {\n",
    "    'tfidf__max_df': (0.3, 0.4, 0.5),\n",
    "    'tfidf__max_features': (3000, 5000, 10000),\n",
    "    'tfidf__ngram_range': ((1, 1), (1, 2), (1, 3)),\n",
    "    'logreg__C': (0.1, 1.0, 10.0),\n",
    "}"
   ]
  },
  {
   "cell_type": "code",
   "execution_count": 82,
   "id": "4ba3ebcf-fb93-4cec-983d-9e294cdac12c",
   "metadata": {},
   "outputs": [
    {
     "name": "stdout",
     "output_type": "stream",
     "text": [
      "CPU times: total: 2.77 s\n",
      "Wall time: 48.8 s\n"
     ]
    }
   ],
   "source": [
    "%%time\n",
    "\n",
    "kf = StratifiedKFold(n_splits=5, shuffle=True, random_state=5246)\n",
    "grid_search = GridSearchCV(pipeline, parameters, n_jobs=-1, cv=kf)\n",
    "grid_search = grid_search.fit(sentences_train, labels_train)"
   ]
  },
  {
   "cell_type": "code",
   "execution_count": 83,
   "id": "8b9509d0-8f1c-47a1-9f0d-00d1e96af2ef",
   "metadata": {},
   "outputs": [
    {
     "name": "stdout",
     "output_type": "stream",
     "text": [
      "{'logreg__C': 1.0, 'tfidf__max_df': 0.3, 'tfidf__max_features': 3000, 'tfidf__ngram_range': (1, 1)}\n"
     ]
    }
   ],
   "source": [
    "print(grid_search.best_params_)"
   ]
  },
  {
   "cell_type": "markdown",
   "id": "7881a8f3-a9ef-4ece-abd5-77eb0605c911",
   "metadata": {},
   "source": [
    "Below are best params:\n",
    "```\n",
    "{'logreg__C': 1.0, 'tfidf__max_df': 0.3, 'tfidf__max_features': 3000, 'tfidf__ngram_range': (1, 1)}\n",
    "```"
   ]
  },
  {
   "cell_type": "code",
   "execution_count": 84,
   "id": "80e22ac3-7e0c-4d20-94ba-bf76a9b16148",
   "metadata": {},
   "outputs": [
    {
     "name": "stdout",
     "output_type": "stream",
     "text": [
      "              precision    recall  f1-score   support\n",
      "\n",
      "         NOT       0.76      0.94      0.84      1750\n",
      "         OFF       0.78      0.41      0.54       898\n",
      "\n",
      "    accuracy                           0.76      2648\n",
      "   macro avg       0.77      0.68      0.69      2648\n",
      "weighted avg       0.76      0.76      0.74      2648\n",
      "\n"
     ]
    }
   ],
   "source": [
    "tfidf_vectorizer = TfidfVectorizer(ngram_range=(1, 1), max_features=3000, max_df=0.3)\n",
    "\n",
    "X_train = tfidf_vectorizer.fit_transform(sentences_train)\n",
    "X_test = tfidf_vectorizer.transform(sentences_test)\n",
    "\n",
    "model = LogisticRegression(C=1.0).fit(X_train, y_train)\n",
    "y_pred = model.predict(X_test)\n",
    "\n",
    "print(metrics.classification_report(y_test, y_pred, target_names=['NOT', 'OFF']))"
   ]
  },
  {
   "cell_type": "code",
   "execution_count": null,
   "id": "4f52c4ec-b7e4-423e-ad62-7d3c326e539c",
   "metadata": {},
   "outputs": [],
   "source": []
  }
 ],
 "metadata": {
  "kernelspec": {
   "display_name": "cs5246",
   "language": "python",
   "name": "cs5246"
  },
  "language_info": {
   "codemirror_mode": {
    "name": "ipython",
    "version": 3
   },
   "file_extension": ".py",
   "mimetype": "text/x-python",
   "name": "python",
   "nbconvert_exporter": "python",
   "pygments_lexer": "ipython3",
   "version": "3.9.15"
  }
 },
 "nbformat": 4,
 "nbformat_minor": 5
}
